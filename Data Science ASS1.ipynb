{
  "nbformat": 4,
  "nbformat_minor": 0,
  "metadata": {
    "colab": {
      "provenance": []
    },
    "kernelspec": {
      "name": "python3",
      "display_name": "Python 3"
    },
    "language_info": {
      "name": "python"
    }
  },
  "cells": [
    {
      "cell_type": "markdown",
      "source": [
        "IMPORTANCE OF DATA VISUALIZATION....\n",
        "FACTORS TO BE CONSIDERED(WHY,WHEN,HOW)\n",
        "\n",
        "WHY DATA VISUALIZATION IS IMPORTANT...\n",
        "1...ANALYSING THE DATA IN A BETTER WAY...\n",
        "Analysing reports helps business stakeholders focus on the areas that require attention.. The visual mediums help analysts understand the keypoints needed for thier business..Whether it is a sales report or a marketing strategy, a visual representation of data helps companies increase thier profits through better analysis and better business decisions.\n",
        "2.. FASTER DECISION MAKING.\n",
        "Humans process visuals better than any tedious tabular forms or reports. if the data comunicates well, decision-makers ca quickly take actions based on the new data insights, accelerating decision-making, and business growth simultaneously..\n",
        "3.. MAKING SENSE OF COMPLICATED DATA..\n",
        "Data visualization allows business users to gain insight into thier vast amounts of data.. It benefits them to recognize new paterns helps the users pay attention to areas that indicate red flags or progress.. This process...This process in turn, drives the business ahead..\n",
        "\n",
        "WHEN TO USE DATA VISUALIZATION..\n",
        "Data visualization and information visualization tools are designed to provide a graphic representation of key points in order to communicate large data sets in an efficient and easy-to-read manner..\n",
        "Data visualization and information visualization tools were designed to make it easy and efficient for designers to work with and talk about large data sets on a surface level..This can look like a clear representation of smaller data sets but can also represent all the way up to hundreds or millions of data points in a quick and easily scannable format....\n",
        "\n",
        "HOW TO CHOOSE THE RIGHT DATA VISUALIZATION..\n",
        "Data visualization are a vital component of a data analysis, as they have the capability of summarizing large amounts of data efficiently in a graphical format..\n",
        "There are many charts type available, each with its own strengths and use cases..\n",
        "The Common Roles for Data Visualization include...\n",
        "1.. showing change over time\n",
        "2.. showing a part-to-whole composition\n",
        "3.. looking at how data is distributed\n",
        "4.. comparing values between groups\n",
        "5.. observing relationships between variables\n",
        "6.. looking at geographical data..\n",
        "The types of variables you are analysing and the audience for the visualization can also affect which chart will work best within each role..There are multiple ways of encoding these values, which are the\n",
        "Bar charts, Line charts, and the Box plot....\n",
        "\n"
      ],
      "metadata": {
        "id": "-c82ptA6Mv3w"
      }
    }
  ]
}