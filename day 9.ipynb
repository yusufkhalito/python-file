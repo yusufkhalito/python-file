{
 "cells": [
  {
   "cell_type": "markdown",
   "id": "e0b527ee",
   "metadata": {},
   "source": [
    "# EXERCISE\n",
    "# USING CLASS AND OBJECT WRITE A PROGRAM FOR A PHONE STORE TO TAKE IN PHONE STOCK AND DISPLAY INVENTORY\n",
    "# NOTE USE A WHILE LOOP TO MAKE IT A RUNNING SYSYTEM"
   ]
  },
  {
   "cell_type": "code",
   "execution_count": 1,
   "id": "ead8a8cb",
   "metadata": {},
   "outputs": [
    {
     "ename": "SyntaxError",
     "evalue": "expected '(' (3597360458.py, line 11)",
     "output_type": "error",
     "traceback": [
      "\u001b[1;36m  Cell \u001b[1;32mIn[1], line 11\u001b[1;36m\u001b[0m\n\u001b[1;33m    def phone_store:\u001b[0m\n\u001b[1;37m                   ^\u001b[0m\n\u001b[1;31mSyntaxError\u001b[0m\u001b[1;31m:\u001b[0m expected '('\n"
     ]
    }
   ],
   "source": [
    "class phone:\n",
    "    def __init__(self,name,brand,price,stock):\n",
    "        self.name = name\n",
    "        self.brand = brand\n",
    "        self.price = price\n",
    "        self.stock =  stock\n",
    "        \n",
    "    def display_info(self):\n",
    "        print(f'phone:{self.name},Brand:{self.brand},price:${self.price},stock:{self.stock}')\n",
    "        \n",
    "    def phone_store:\n",
    "        def __init__(self):\n",
    "            self.inventory = []\n",
    "            \n",
    "    def add_phone(self.phone):\n",
    "        self.inventory.append(phone)\n",
    "        \n",
    "    def display_inventory(self):\n",
    "        for phone in self.inevntory:\n",
    "            phone.display_info()\n",
    "            \n",
    "store = phonestore()\n",
    "\n",
    "def add_phones_to_inventory():\n",
    "    name = ('Enter phone name:')\n",
    "    brand = ('Enter phone brand:')\n",
    "    price = ('Enter phone price:')\n",
    "    stock = ('Enter phone stock:')\n",
    "        "
   ]
  },
  {
   "cell_type": "code",
   "execution_count": 2,
   "id": "2d4fe0bb",
   "metadata": {},
   "outputs": [
    {
     "name": "stdout",
     "output_type": "stream",
     "text": [
      "1. Add a phone to inventory\n",
      " 2. Display Inventory\n",
      "3. Exit\n",
      "Enter your choice of operation (1/2/3)1\n",
      "Enter Phone Brand:Samsung\n",
      "Enter Phone Model:S23 Ultra\n",
      "Enter Phone Price:1500000\n",
      "Samsung S23 Ultra added successfully\n",
      "1. Add a phone to inventory\n",
      " 2. Display Inventory\n",
      "3. Exit\n",
      "Enter your choice of operation (1/2/3)Iphone\n",
      "1. Add a phone to inventory\n",
      " 2. Display Inventory\n",
      "3. Exit\n",
      "Enter your choice of operation (1/2/3)1\n",
      "Enter Phone Brand:Iphone\n",
      "Enter Phone Model:14 Pro\n",
      "Enter Phone Price:1200000\n",
      "Iphone 14 Pro added successfully\n",
      "1. Add a phone to inventory\n",
      " 2. Display Inventory\n",
      "3. Exit\n",
      "Enter your choice of operation (1/2/3)2\n",
      "Inventory Details\n",
      "Samsung S23 Ultra - N1500000.0\n",
      "Iphone 14 Pro - N1200000.0\n",
      "1. Add a phone to inventory\n",
      " 2. Display Inventory\n",
      "3. Exit\n",
      "Enter your choice of operation (1/2/3)3\n",
      "Exiting the system...............\n"
     ]
    }
   ],
   "source": [
    "class phone:\n",
    "    def __init__(self, brand, model,price):\n",
    "        self.brand = brand\n",
    "        self.model = model\n",
    "        self.price = price\n",
    "    def display_info(self):\n",
    "        print(f'{self.brand} {self.model} - N{self.price}')\n",
    "class phonestore:\n",
    "    def __init__(self):\n",
    "        self.inventory = []\n",
    "    def add_stock(self, phone):\n",
    "        self.inventory.append(phone)\n",
    "        print(f'{phone.brand} {phone.model} added successfully')\n",
    "    def display(self):\n",
    "        if not self.inventory:\n",
    "            print('The inventory is empty')\n",
    "        else:\n",
    "            print('Inventory Details')\n",
    "            for phone in self.inventory:\n",
    "                phone.display_info()\n",
    "phone_store = phonestore()\n",
    "while True:\n",
    "    print('1. Add a phone to inventory\\n 2. Display Inventory\\n3. Exit')\n",
    "    choice = input('Enter your choice of operation (1/2/3)')\n",
    "    if choice =='1':\n",
    "        brand = input('Enter Phone Brand:')\n",
    "        model = input('Enter Phone Model:')\n",
    "        price = float(input('Enter Phone Price:'))\n",
    "        phone_store.add_stock(phone(brand, model,price))\n",
    "    elif choice =='2':\n",
    "        phone_store.display()\n",
    "    elif choice =='3':\n",
    "        print('Exiting the system...............')\n",
    "        break"
   ]
  },
  {
   "cell_type": "code",
   "execution_count": null,
   "id": "1e6c4408",
   "metadata": {},
   "outputs": [],
   "source": []
  }
 ],
 "metadata": {
  "kernelspec": {
   "display_name": "Python 3 (ipykernel)",
   "language": "python",
   "name": "python3"
  },
  "language_info": {
   "codemirror_mode": {
    "name": "ipython",
    "version": 3
   },
   "file_extension": ".py",
   "mimetype": "text/x-python",
   "name": "python",
   "nbconvert_exporter": "python",
   "pygments_lexer": "ipython3",
   "version": "3.11.5"
  }
 },
 "nbformat": 4,
 "nbformat_minor": 5
}
