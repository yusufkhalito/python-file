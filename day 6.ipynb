{
 "cells": [
  {
   "cell_type": "markdown",
   "id": "6404616d",
   "metadata": {},
   "source": [
    "# FUNCTION"
   ]
  },
  {
   "cell_type": "code",
   "execution_count": 1,
   "id": "d9361b5b",
   "metadata": {},
   "outputs": [
    {
     "name": "stdout",
     "output_type": "stream",
     "text": [
      "Welcome to python class\n"
     ]
    }
   ],
   "source": [
    "def greet(): # A function without a parameter\n",
    "    print('Welcome to python class')\n",
    "greet()"
   ]
  },
  {
   "cell_type": "code",
   "execution_count": 2,
   "id": "571d42f9",
   "metadata": {},
   "outputs": [
    {
     "name": "stdout",
     "output_type": "stream",
     "text": [
      "welcome to python class Job\n"
     ]
    }
   ],
   "source": [
    "def greet2(name): # A function with a single parameter\n",
    "    print(f'welcome to python class {name}')\n",
    "greet2('Job')"
   ]
  },
  {
   "cell_type": "code",
   "execution_count": 4,
   "id": "bdeb8e7f",
   "metadata": {},
   "outputs": [
    {
     "name": "stdout",
     "output_type": "stream",
     "text": [
      "welcome to python class Ayo\n"
     ]
    }
   ],
   "source": [
    "greet2('Ayo')"
   ]
  },
  {
   "cell_type": "markdown",
   "id": "bb6e5647",
   "metadata": {},
   "source": [
    "# Function with multiple parameter"
   ]
  },
  {
   "cell_type": "code",
   "execution_count": 5,
   "id": "a505ff1a",
   "metadata": {},
   "outputs": [
    {
     "name": "stdout",
     "output_type": "stream",
     "text": [
      "_________DETAILS_______\n",
      "NAME: Hafiz Ayo\n",
      "AGE: 18\n",
      "GENDER: Male\n",
      "HEIGHT: 1.65\n",
      "\n",
      "Sorry not selected\n"
     ]
    }
   ],
   "source": [
    "def Basketball_Selection(name, age, gender, height):\n",
    "    print(f'''_________DETAILS_______\n",
    "NAME: {name}\n",
    "AGE: {age}\n",
    "GENDER: {gender}\n",
    "HEIGHT: {height}\n",
    "''')\n",
    "    if height >= 1.90 and age >=16:\n",
    "        print('Congratulations you have been selected for the upcoming game')\n",
    "    else:\n",
    "        print('Sorry not selected')\n",
    "Basketball_Selection('Hafiz Ayo',18,'Male',1.65)"
   ]
  },
  {
   "cell_type": "code",
   "execution_count": 6,
   "id": "a2f39ff7",
   "metadata": {},
   "outputs": [
    {
     "name": "stdout",
     "output_type": "stream",
     "text": [
      "_________DETAILS_______\n",
      "NAME: Hafiz Ayo\n",
      "AGE: 18\n",
      "GENDER: Male\n",
      "HEIGHT: 1.98\n",
      "\n",
      "Congratulations you have been selected for the upcoming game\n"
     ]
    }
   ],
   "source": [
    "Basketball_Selection('Hafiz Ayo',18,'Male',1.98)"
   ]
  },
  {
   "cell_type": "code",
   "execution_count": 7,
   "id": "ff3c33a1",
   "metadata": {},
   "outputs": [
    {
     "name": "stdout",
     "output_type": "stream",
     "text": [
      "CHOOSE TRANSACTION OPTION [deposit,transfer,airtime,data,balance, logout]deposit\n",
      "Enter Deposit Amount:1000000\n",
      "Transaction Successful\n",
      "CHOOSE TRANSACTION OPTION [deposit,transfer,airtime,data,balance, logout]balance\n",
      "Your available balance is 1000000.0\n",
      "CHOOSE TRANSACTION OPTION [deposit,transfer,airtime,data,balance, logout]transfer\n",
      "Enter Transfer Amount:200000\n",
      "Transaction Successful\n",
      "CHOOSE TRANSACTION OPTION [deposit,transfer,airtime,data,balance, logout]balance\n",
      "Your available balance is 800000.0\n",
      "CHOOSE TRANSACTION OPTION [deposit,transfer,airtime,data,balance, logout]airtime\n",
      "Enter airtime Amount:10000\n",
      "Transaction Successful\n",
      "CHOOSE TRANSACTION OPTION [deposit,transfer,airtime,data,balance, logout]balance\n",
      "Your available balance is 790000.0\n",
      "CHOOSE TRANSACTION OPTION [deposit,transfer,airtime,data,balance, logout]logout\n",
      "Logging out have a nice day\n"
     ]
    }
   ],
   "source": [
    "balance = 0\n",
    "def sparkjet():\n",
    "    global balance\n",
    "    def deposit():\n",
    "        global balance\n",
    "        amount = float(input('Enter Deposit Amount:'))\n",
    "        balance = balance + amount\n",
    "        print('Transaction Successful')\n",
    "    def transfer():\n",
    "        global balance\n",
    "        amount = float(input('Enter Transfer Amount:'))\n",
    "        if amount > balance or amount == 0:\n",
    "            print('Insufficient Funds')\n",
    "        else:\n",
    "            balance = balance - amount\n",
    "            print('Transaction Successful')\n",
    "    def airtime():\n",
    "        global balance\n",
    "        amount = float(input('Enter airtime Amount:'))\n",
    "        if amount > balance or amount == 0:\n",
    "            print('Insufficient Funds')\n",
    "        else:\n",
    "            balance = balance - amount\n",
    "            print('Transaction Successful')\n",
    "    def data():\n",
    "        global balance\n",
    "        amount = float(input('Enter data Amount:'))\n",
    "        if amount > balance or amount == 0:\n",
    "            print('Insufficient Funds')\n",
    "        else:\n",
    "            balance = balance - amount\n",
    "            print('Transaction Successful')\n",
    "    def checkbalance():\n",
    "        global balance\n",
    "        print(f'Your available balance is {balance}')\n",
    "    operation = True\n",
    "    counter = 0\n",
    "    while operation:\n",
    "        option = input('CHOOSE TRANSACTION OPTION [deposit,transfer,airtime,data,balance, logout]')\n",
    "        if option =='deposit':\n",
    "            deposit()\n",
    "        elif option =='transfer':\n",
    "            transfer()\n",
    "        elif option =='airtime':\n",
    "            airtime()\n",
    "        elif option =='data':\n",
    "            data()\n",
    "        elif option =='balance':\n",
    "            checkbalance()\n",
    "        elif option == 'logout':\n",
    "            print('Logging out have a nice day')\n",
    "            break\n",
    "            operation = False\n",
    "        counter = counter + 1\n",
    "sparkjet()\n",
    "        "
   ]
  },
  {
   "cell_type": "code",
   "execution_count": null,
   "id": "f0798662",
   "metadata": {},
   "outputs": [],
   "source": []
  }
 ],
 "metadata": {
  "kernelspec": {
   "display_name": "Python 3 (ipykernel)",
   "language": "python",
   "name": "python3"
  },
  "language_info": {
   "codemirror_mode": {
    "name": "ipython",
    "version": 3
   },
   "file_extension": ".py",
   "mimetype": "text/x-python",
   "name": "python",
   "nbconvert_exporter": "python",
   "pygments_lexer": "ipython3",
   "version": "3.11.5"
  }
 },
 "nbformat": 4,
 "nbformat_minor": 5
}
