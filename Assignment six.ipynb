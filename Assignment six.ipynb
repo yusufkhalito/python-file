{
 "cells": [
  {
   "cell_type": "code",
   "execution_count": 1,
   "id": "83048662",
   "metadata": {},
   "outputs": [
    {
     "name": "stdout",
     "output_type": "stream",
     "text": [
      "Enter item weight: 67\n",
      "Enter item condition: fragile\n",
      "Enter item destination: Region1\n",
      "The total cost is 670.0\n",
      "End of program\n"
     ]
    }
   ],
   "source": [
    "def calculate_shipping_cost(weight, item_condition, destination):\n",
    "    try:\n",
    "        shipping_rates = {\n",
    "            'Region1': 5,\n",
    "            'Region2': 7,\n",
    "            'Region3': 9,\n",
    "            'Region4': 11,\n",
    "        }\n",
    "        condition_charge = 0\n",
    "        if item_condition == 'fragile':\n",
    "            condition_charge = 5\n",
    "        elif item_condition == 'flammable':\n",
    "            condition_charge = 8\n",
    "        shipping_rate = shipping_rates.get(destination, 0)\n",
    "        total_cost = (shipping_rate + condition_charge) * weight\n",
    "        return f'The total cost is {total_cost}'\n",
    "    except KeyError:\n",
    "        return 'Key Does Not Exists'\n",
    "    except Exception as e:\n",
    "        return f'You Have Encountered One Or More Errors: {str(e)}'\n",
    "\n",
    "try:\n",
    "    weight = float(input('Enter item weight: '))\n",
    "    item_condition = input('Enter item condition: ')\n",
    "    destination = input('Enter item destination: ')\n",
    "except ValueError:\n",
    "    print('Only float or integer value for weight allowed')\n",
    "else:\n",
    "    result = calculate_shipping_cost(weight, item_condition, destination)\n",
    "    print(result)\n",
    "finally:\n",
    "    print('End of program')\n"
   ]
  },
  {
   "cell_type": "code",
   "execution_count": null,
   "id": "581ad395",
   "metadata": {},
   "outputs": [],
   "source": []
  }
 ],
 "metadata": {
  "kernelspec": {
   "display_name": "Python 3 (ipykernel)",
   "language": "python",
   "name": "python3"
  },
  "language_info": {
   "codemirror_mode": {
    "name": "ipython",
    "version": 3
   },
   "file_extension": ".py",
   "mimetype": "text/x-python",
   "name": "python",
   "nbconvert_exporter": "python",
   "pygments_lexer": "ipython3",
   "version": "3.11.5"
  }
 },
 "nbformat": 4,
 "nbformat_minor": 5
}
