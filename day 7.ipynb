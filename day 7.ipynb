{
 "cells": [
  {
   "cell_type": "code",
   "execution_count": 1,
   "id": "5b382c17",
   "metadata": {},
   "outputs": [
    {
     "name": "stdout",
     "output_type": "stream",
     "text": [
      "The average score of (90, 66, 79, 81, 45, 86, 78, 98, 23, 43, 56, 77, 68, 97, 19, 18, 49, 50) is 62.39\n"
     ]
    }
   ],
   "source": [
    "# non-key word\n",
    "# keyword\n",
    "def average(*numbers):\n",
    "    avg = sum(numbers)/len(numbers)\n",
    "    print(f'The average score of {numbers} is {round(avg,2)}')\n",
    "average(90,66,79,81,45,86,78,98,23,43,56,77,68,97,19,18,49,50)"
   ]
  },
  {
   "cell_type": "code",
   "execution_count": 2,
   "id": "e8c6ef8a",
   "metadata": {},
   "outputs": [],
   "source": [
    "score = [80,85,90,95,78]"
   ]
  },
  {
   "cell_type": "code",
   "execution_count": 3,
   "id": "b0d5db6b",
   "metadata": {},
   "outputs": [
    {
     "name": "stdout",
     "output_type": "stream",
     "text": [
      "The average score of (80, 85, 90, 95, 78) is 85.6\n"
     ]
    }
   ],
   "source": [
    "average(*score)"
   ]
  },
  {
   "cell_type": "code",
   "execution_count": 4,
   "id": "7630d6d2",
   "metadata": {
    "scrolled": false
   },
   "outputs": [],
   "source": [
    "import mymodules"
   ]
  },
  {
   "cell_type": "code",
   "execution_count": 5,
   "id": "92152080",
   "metadata": {},
   "outputs": [],
   "source": [
    "import mymodules"
   ]
  },
  {
   "cell_type": "code",
   "execution_count": 6,
   "id": "02499c9e",
   "metadata": {},
   "outputs": [
    {
     "name": "stdout",
     "output_type": "stream",
     "text": [
      "['__builtins__', '__cached__', '__doc__', '__file__', '__loader__', '__name__', '__package__', '__spec__', 'average', 'total']\n"
     ]
    }
   ],
   "source": [
    "print(dir(mymodules))"
   ]
  },
  {
   "cell_type": "code",
   "execution_count": 7,
   "id": "9afc19b0",
   "metadata": {},
   "outputs": [
    {
     "name": "stdout",
     "output_type": "stream",
     "text": [
      "The average score of (85, 887, 96, 36, 35) is 227.8\n"
     ]
    }
   ],
   "source": [
    "mymodules.average(85,887,96,36,35)"
   ]
  },
  {
   "cell_type": "code",
   "execution_count": 8,
   "id": "0f6ffdb7",
   "metadata": {},
   "outputs": [
    {
     "name": "stdout",
     "output_type": "stream",
     "text": [
      "The average score of (14, 25, 36, 39, 84, 45) is 243\n"
     ]
    }
   ],
   "source": [
    "mymodules.total(14,25,36,39,84,45)"
   ]
  },
  {
   "cell_type": "code",
   "execution_count": 9,
   "id": "efd225ec",
   "metadata": {},
   "outputs": [
    {
     "name": "stdout",
     "output_type": "stream",
     "text": [
      "Name :: Ayo\n",
      "id1 :: 1\n"
     ]
    }
   ],
   "source": [
    "def records_storing(**details):\n",
    "    for key, value in details.items():\n",
    "        print(key, '::', value)\n",
    "records_storing(Name = 'Ayo', id1 = 1)"
   ]
  },
  {
   "cell_type": "markdown",
   "id": "16252fd6",
   "metadata": {},
   "source": [
    "# LAMBDA FUNCTION"
   ]
  },
  {
   "cell_type": "code",
   "execution_count": 10,
   "id": "633fb53e",
   "metadata": {},
   "outputs": [
    {
     "data": {
      "text/plain": [
       "32"
      ]
     },
     "execution_count": 10,
     "metadata": {},
     "output_type": "execute_result"
    }
   ],
   "source": [
    "(lambda x,y,z: x+y*z)(12,10,2)"
   ]
  },
  {
   "cell_type": "code",
   "execution_count": 13,
   "id": "3f2a539c",
   "metadata": {},
   "outputs": [
    {
     "name": "stdout",
     "output_type": "stream",
     "text": [
      "Enter your password:Hafiz43215\n"
     ]
    },
    {
     "data": {
      "text/plain": [
       "'Yes Hafiz43215 is correct'"
      ]
     },
     "execution_count": 13,
     "metadata": {},
     "output_type": "execute_result"
    }
   ],
   "source": [
    " (lambda password: f'Yes {password} is correct' if password[0] == password[0].upper() and len(password) >=8 else 'Incorrect password')(input('Enter your password:'))"
   ]
  },
  {
   "cell_type": "code",
   "execution_count": 18,
   "id": "a7a059fc",
   "metadata": {},
   "outputs": [
    {
     "name": "stdout",
     "output_type": "stream",
     "text": [
      "Enter your number:80\n"
     ]
    },
    {
     "data": {
      "text/plain": [
       "'80 is even'"
      ]
     },
     "execution_count": 18,
     "metadata": {},
     "output_type": "execute_result"
    }
   ],
   "source": [
    "# WRITE A LAMBDA FUNCTION TO CHECK IF A USERS NUMBER IS EVEN OR ODD\n",
    "(lambda number: f'{number} is even' if number %2==0 else f'{number} is odd')(int(input('Enter your number:')))"
   ]
  },
  {
   "cell_type": "code",
   "execution_count": null,
   "id": "2ebf3667",
   "metadata": {},
   "outputs": [],
   "source": []
  },
  {
   "cell_type": "code",
   "execution_count": null,
   "id": "9e4c6dba",
   "metadata": {},
   "outputs": [],
   "source": []
  }
 ],
 "metadata": {
  "kernelspec": {
   "display_name": "Python 3 (ipykernel)",
   "language": "python",
   "name": "python3"
  },
  "language_info": {
   "codemirror_mode": {
    "name": "ipython",
    "version": 3
   },
   "file_extension": ".py",
   "mimetype": "text/x-python",
   "name": "python",
   "nbconvert_exporter": "python",
   "pygments_lexer": "ipython3",
   "version": "3.11.5"
  }
 },
 "nbformat": 4,
 "nbformat_minor": 5
}
