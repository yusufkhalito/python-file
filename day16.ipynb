{
 "cells": [
  {
   "cell_type": "code",
   "execution_count": 1,
   "id": "36a5854f",
   "metadata": {},
   "outputs": [
    {
     "name": "stdout",
     "output_type": "stream",
     "text": [
      "^C\n",
      "\n",
      "Note: you may need to restart the kernel to use updated packages.\n"
     ]
    }
   ],
   "source": [
    "conda install -c anaconda mysql-connector-python"
   ]
  },
  {
   "cell_type": "markdown",
   "id": "92bda8dd",
   "metadata": {},
   "source": [
    "# Write a simple python code for a phone store management system with MySQL as the database"
   ]
  },
  {
   "cell_type": "code",
   "execution_count": 2,
   "id": "3f0ecf58",
   "metadata": {},
   "outputs": [],
   "source": [
    "import pymysql"
   ]
  },
  {
   "cell_type": "code",
   "execution_count": 3,
   "id": "86dfb065",
   "metadata": {},
   "outputs": [
    {
     "name": "stdout",
     "output_type": "stream",
     "text": [
      "('earlycodeacademy',)\n",
      "('information_schema',)\n",
      "('mysql',)\n",
      "('performance_schema',)\n",
      "('phonestore',)\n",
      "('primeinstitutes',)\n",
      "('sakila',)\n",
      "('sys',)\n",
      "('world',)\n"
     ]
    }
   ],
   "source": [
    "mydb = pymysql.connect(\n",
    "    host='localhost',\n",
    "    user ='root',\n",
    "    port= 3306,\n",
    "    password ='abdulhafiz515'\n",
    ")\n",
    "mycursor = mydb.cursor()\n",
    "mycursor.execute('create database PHONESTORE;')\n",
    "mycursor.execute('show databases')\n",
    "for x in mycursor:\n",
    "    print(x)"
   ]
  },
  {
   "cell_type": "code",
   "execution_count": null,
   "id": "1d8dd207",
   "metadata": {},
   "outputs": [],
   "source": [
    "class PhoneStore:\n",
    "    def __init__(self, host,user,port,password,database):\n",
    "        self.connection = pymysql.connect(\n",
    "            host = host,\n",
    "            user = user,\n",
    "            port = port,\n",
    "            password = password,\n",
    "            database = database\n",
    "        )\n",
    "        self.cursor = self.conn.cursor()\n",
    "        self.create_table()\n",
    "        \n",
    "    def create_table(self):\n",
    "        self.cursor.execute('''\n",
    "        CREATE TABLE IF NOT EXISTS PHONETABLE(\n",
    "        ID INT AUTO_INCREAMENT PRIMARY KEY NOT NULL,\n",
    "        BRAND VARCHAR(255) NOT NULL,\n",
    "        MODEL VARCHAR(255) NOT NULL,\n",
    "        PRICE FLOAT NOT NULL\n",
    "        )\n",
    "        ''')\n",
    "        self.cursor.conn.commit()\n",
    "    def add_phone(self, brand,model,price):\n",
    "        self.cursor.execute('INSERT INTO PHONETABLE(BRAND,MODEL,PRICE) VALUES(%s,%s,%s)')\n",
    "        self.conn.commit()\n",
    "        print('PHONE ADDED SUCCESSFULLY!')\n",
    "    def search_phone(self,keyword):\n",
    "        self.cursor.execute('SELECT * FROM PHONETABLE WHERE BRAND LIKE %s OR MODEL LIKE is %s', (f\"%{keyword}%\", f\"%{keyword}%\"))\n",
    "        result = self.cursor.fetchall()\n",
    "        if not result:\n",
    "            print('NO MATCHING RECORDS FOUND.')\n",
    "        else:\n",
    "            print('MATCHING PHONES ARE:')\n",
    "            for row in result:\n",
    "                print(row)\n",
    "    def close_conn(self):\n",
    "        self.cursor.close()\n",
    "        self.conn.close()\n",
    "        \n",
    "def main():\n",
    "    host = input('Enter MYSQL host:')\n",
    "    user = input('Enter MYSQL user:')\n",
    "    port = int(input('Enter MYSQL port:'))\n",
    "    password = input('Enter MYSQL password:')\n",
    "    database =\"phonestore\"\n",
    "    program = PhoneStore(host, user, port,password, database)"
   ]
  }
 ],
 "metadata": {
  "kernelspec": {
   "display_name": "Python 3 (ipykernel)",
   "language": "python",
   "name": "python3"
  },
  "language_info": {
   "codemirror_mode": {
    "name": "ipython",
    "version": 3
   },
   "file_extension": ".py",
   "mimetype": "text/x-python",
   "name": "python",
   "nbconvert_exporter": "python",
   "pygments_lexer": "ipython3",
   "version": "3.11.5"
  }
 },
 "nbformat": 4,
 "nbformat_minor": 5
}
