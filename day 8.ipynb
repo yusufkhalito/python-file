{
 "cells": [
  {
   "cell_type": "markdown",
   "id": "649ef921",
   "metadata": {},
   "source": [
    "# CLASS"
   ]
  },
  {
   "cell_type": "code",
   "execution_count": 1,
   "id": "a8fde5da",
   "metadata": {},
   "outputs": [],
   "source": [
    "class person:\n",
    "    attr1 = 'Ade'\n",
    "    attr2 = 25\n",
    "ob = person()"
   ]
  },
  {
   "cell_type": "code",
   "execution_count": 2,
   "id": "563d8a14",
   "metadata": {},
   "outputs": [
    {
     "data": {
      "text/plain": [
       "'Ade'"
      ]
     },
     "execution_count": 2,
     "metadata": {},
     "output_type": "execute_result"
    }
   ],
   "source": [
    "ob.attr1"
   ]
  },
  {
   "cell_type": "code",
   "execution_count": 3,
   "id": "47ab3c45",
   "metadata": {},
   "outputs": [
    {
     "data": {
      "text/plain": [
       "25"
      ]
     },
     "execution_count": 3,
     "metadata": {},
     "output_type": "execute_result"
    }
   ],
   "source": [
    "ob.attr2"
   ]
  },
  {
   "cell_type": "code",
   "execution_count": 4,
   "id": "0da696c6",
   "metadata": {},
   "outputs": [],
   "source": [
    "class person:\n",
    "    attr1 = 'Ade'\n",
    "    attr2 = 25\n",
    "    \n",
    "    def details(self):\n",
    "        print(f'''NAME:{self.attr1}\n",
    "AGE: {self.attr2}\n",
    "''')\n",
    "ob = person()"
   ]
  },
  {
   "cell_type": "code",
   "execution_count": 5,
   "id": "2a5bc074",
   "metadata": {},
   "outputs": [
    {
     "name": "stdout",
     "output_type": "stream",
     "text": [
      "NAME:Ade\n",
      "AGE: 25\n",
      "\n"
     ]
    }
   ],
   "source": [
    "ob.details()"
   ]
  },
  {
   "cell_type": "code",
   "execution_count": 6,
   "id": "c55c8c13",
   "metadata": {},
   "outputs": [],
   "source": [
    "# Weight (kg) / [height (m)]2"
   ]
  },
  {
   "cell_type": "code",
   "execution_count": 15,
   "id": "6c90ecf4",
   "metadata": {},
   "outputs": [],
   "source": [
    "class BMISYSTEM:\n",
    "    def __init__(self):\n",
    "        self.name = ''\n",
    "        self.gender = ''\n",
    "        self.dob = ''\n",
    "        self.height = 0.0\n",
    "        self.weight = 0.0\n",
    "        self.country = ''\n",
    "        self.continent = ''\n",
    "    \n",
    "    def accept(self):\n",
    "        self.name = input('Enter Customer Name:')\n",
    "        self.gender = input('Enter Customer Gender:')\n",
    "        self.dob = input('Enter Customer Date Of Birth [mm/dd/yy]:')\n",
    "        self.height = float(input('Enter Customer Height:'))\n",
    "        self.weight = float(input('Enter Customer Weight:'))\n",
    "        self.country = input('Enter Customer Country:')\n",
    "        self.continent = input('Enter Customer Continent:')\n",
    "        customerlist.append((self.name,self.gender,self.dob,self.height,self.weight,self.country,self.continent))\n",
    "    def bmisection(self):\n",
    "        cid = int(input('Enter Customer ID:'))\n",
    "        bmi = (customerlist[cid][4]/(customerlist[cid][3]**2))\n",
    "        if customerlist[cid][6] == 'Africa':\n",
    "            print(f'Your BMI is {bmi}, Kindly check on your doctor for advice. Your checking charge is $15')\n",
    "        elif customerlist[cid][6] == 'Europe':\n",
    "            print(f'Your BMI is {bmi}, Kindly check on your doctor for advice. Your checking charge is $20')\n",
    "        elif customerlist[cid][6] == 'South America':\n",
    "            print(f'Your BMI is {bmi}, Kindly check on your doctor for advice. Your checking charge is $25')\n",
    "        elif customerlist[cid][6] == 'North America':\n",
    "            print(f'Your BMI is {bmi}, Kindly check on your doctor for advice. Your checking charge is $25')\n",
    "        elif customerlist[cid][6] == 'Asia':\n",
    "            print(f'Your BMI is {bmi}, Kindly check on your doctor for advice. Your checking charge is $30')\n",
    "        elif customerlist[cid][6] == 'Australia':\n",
    "            print(f'Your BMI is {bmi}, Kindly check on your doctor for advice. Your checking charge is $30')\n",
    "    def display(self):\n",
    "        cid = int(input('Enter Customer ID:'))\n",
    "        print(f'''____________________CUSTOMER DETAILS____________________\n",
    "NAME:{customerlist[cid][0]}\n",
    "GENDER:{customerlist[cid][1]}\n",
    "DOB:{customerlist[cid][2]}\n",
    "HEIGHT:{customerlist[cid][3]}\n",
    "WEIGHT:{customerlist[cid][4]}\n",
    "COUNTRY:{customerlist[cid][5]}\n",
    "CONTINENT:{customerlist[cid][6]}\n",
    "''')\n",
    "customerlist = []\n",
    "program = BMISYSTEM()"
   ]
  },
  {
   "cell_type": "code",
   "execution_count": 11,
   "id": "29df0be1",
   "metadata": {},
   "outputs": [
    {
     "name": "stdout",
     "output_type": "stream",
     "text": [
      "Enter Customer Name:Hafiz Ayo\n",
      "Enter Customer Gender:Male\n",
      "Enter Customer Date Of Birth [mm/dd/yy]:9/19/2005\n",
      "Enter Customer Height:1.96\n",
      "Enter Customer Weight:87\n",
      "Enter Customer Country:England\n",
      "Enter Customer Continent:Europe\n"
     ]
    }
   ],
   "source": [
    "program.accept()"
   ]
  },
  {
   "cell_type": "code",
   "execution_count": 16,
   "id": "24a85205",
   "metadata": {},
   "outputs": [
    {
     "name": "stdout",
     "output_type": "stream",
     "text": [
      "Enter Customer ID:0\n"
     ]
    },
    {
     "ename": "IndexError",
     "evalue": "list index out of range",
     "output_type": "error",
     "traceback": [
      "\u001b[1;31m---------------------------------------------------------------------------\u001b[0m",
      "\u001b[1;31mIndexError\u001b[0m                                Traceback (most recent call last)",
      "Cell \u001b[1;32mIn[16], line 1\u001b[0m\n\u001b[1;32m----> 1\u001b[0m program\u001b[38;5;241m.\u001b[39mdisplay()\n",
      "Cell \u001b[1;32mIn[15], line 38\u001b[0m, in \u001b[0;36mBMISYSTEM.display\u001b[1;34m(self)\u001b[0m\n\u001b[0;32m     35\u001b[0m     \u001b[38;5;28;01mdef\u001b[39;00m \u001b[38;5;21mdisplay\u001b[39m(\u001b[38;5;28mself\u001b[39m):\n\u001b[0;32m     36\u001b[0m         cid \u001b[38;5;241m=\u001b[39m \u001b[38;5;28mint\u001b[39m(\u001b[38;5;28minput\u001b[39m(\u001b[38;5;124m'\u001b[39m\u001b[38;5;124mEnter Customer ID:\u001b[39m\u001b[38;5;124m'\u001b[39m))\n\u001b[0;32m     37\u001b[0m         \u001b[38;5;28mprint\u001b[39m(\u001b[38;5;124mf\u001b[39m\u001b[38;5;124m'''\u001b[39m\u001b[38;5;124m____________________CUSTOMER DETAILS____________________\u001b[39m\n\u001b[1;32m---> 38\u001b[0m \u001b[38;5;124mNAME:\u001b[39m\u001b[38;5;132;01m{\u001b[39;00mcustomerlist[cid][\u001b[38;5;241m0\u001b[39m]\u001b[38;5;132;01m}\u001b[39;00m\n\u001b[0;32m     39\u001b[0m \u001b[38;5;124mGENDER:\u001b[39m\u001b[38;5;132;01m{\u001b[39;00mcustomerlist[cid][\u001b[38;5;241m1\u001b[39m]\u001b[38;5;132;01m}\u001b[39;00m\n\u001b[0;32m     40\u001b[0m \u001b[38;5;124mDOB:\u001b[39m\u001b[38;5;132;01m{\u001b[39;00mcustomerlist[cid][\u001b[38;5;241m2\u001b[39m]\u001b[38;5;132;01m}\u001b[39;00m\n\u001b[0;32m     41\u001b[0m \u001b[38;5;124mHEIGHT:\u001b[39m\u001b[38;5;132;01m{\u001b[39;00mcustomerlist[cid][\u001b[38;5;241m3\u001b[39m]\u001b[38;5;132;01m}\u001b[39;00m\n\u001b[0;32m     42\u001b[0m \u001b[38;5;124mWEIGHT:\u001b[39m\u001b[38;5;132;01m{\u001b[39;00mcustomerlist[cid][\u001b[38;5;241m4\u001b[39m]\u001b[38;5;132;01m}\u001b[39;00m\n\u001b[0;32m     43\u001b[0m \u001b[38;5;124mCOUNTRY:\u001b[39m\u001b[38;5;132;01m{\u001b[39;00mcustomerlist[cid][\u001b[38;5;241m5\u001b[39m]\u001b[38;5;132;01m}\u001b[39;00m\n\u001b[0;32m     44\u001b[0m \u001b[38;5;124mCONTINENT:\u001b[39m\u001b[38;5;132;01m{\u001b[39;00mcustomerlist[cid][\u001b[38;5;241m6\u001b[39m]\u001b[38;5;132;01m}\u001b[39;00m\n\u001b[0;32m     45\u001b[0m \u001b[38;5;124m'''\u001b[39m)\n",
      "\u001b[1;31mIndexError\u001b[0m: list index out of range"
     ]
    }
   ],
   "source": [
    "program.display()"
   ]
  },
  {
   "cell_type": "code",
   "execution_count": null,
   "id": "fcdfb014",
   "metadata": {},
   "outputs": [],
   "source": []
  }
 ],
 "metadata": {
  "kernelspec": {
   "display_name": "Python 3 (ipykernel)",
   "language": "python",
   "name": "python3"
  },
  "language_info": {
   "codemirror_mode": {
    "name": "ipython",
    "version": 3
   },
   "file_extension": ".py",
   "mimetype": "text/x-python",
   "name": "python",
   "nbconvert_exporter": "python",
   "pygments_lexer": "ipython3",
   "version": "3.11.5"
  }
 },
 "nbformat": 4,
 "nbformat_minor": 5
}
