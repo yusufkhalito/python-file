{
 "cells": [
  {
   "cell_type": "code",
   "execution_count": null,
   "id": "43887568",
   "metadata": {},
   "outputs": [],
   "source": []
  },
  {
   "cell_type": "markdown",
   "id": "59587e24",
   "metadata": {},
   "source": [
    "# TEMPERATURE CONTROL SYSTEM"
   ]
  },
  {
   "cell_type": "code",
   "execution_count": 4,
   "id": "fa1e9115",
   "metadata": {},
   "outputs": [
    {
     "name": "stdout",
     "output_type": "stream",
     "text": [
      "current temperature: (current_temperature)c\n",
      "Room too hot. Turning down the heat.\n",
      "adjust thermostat down\n",
      "current temperature: (current_temperature)c\n",
      "Room too hot. Turning down the heat.\n",
      "adjust thermostat down\n",
      "current temperature: (current_temperature)c\n",
      "Room too hot. Turning down the heat.\n",
      "adjust thermostat down\n",
      "current temperature: (current_temperature)c\n",
      "Room too hot. Turning down the heat.\n",
      "adjust thermostat down\n",
      "current temperature: (current_temperature)c\n",
      "room is normal\n",
      "do not adjust the thermostat\n",
      "Temperature monitoring complete.\n"
     ]
    }
   ],
   "source": [
    "import time\n",
    "\n",
    "# Function to get\n",
    "def get_current_temperature():\n",
    "    import random\n",
    "    return random.uniform(30, 60)\n",
    "\n",
    "\n",
    "# Desired temperature range\n",
    "desired_temperature_range = (30, 35)\n",
    "\n",
    "# Stimulate\n",
    "for r in range(5): \n",
    "    current_temperature = get_current_temperature()\n",
    "    \n",
    "    print(f'current temperature: (current_temperature)c')\n",
    "    \n",
    "    if current_temperature < desired_temperature_range[0]:\n",
    "        print(f'Room too cold. Turning up the heat.')\n",
    "        print('adjust thermostat up')\n",
    "    elif current_temperature > desired_temperature_range[1]:\n",
    "        print(f'Room too hot. Turning down the heat.')\n",
    "        print('adjust thermostat down')\n",
    "    else:\n",
    "        print(f'room is normal')\n",
    "        print('do not adjust the thermostat')\n",
    "        \n",
    "        # introduce a time delay before the next iteration\n",
    "        time.sleep(5)\n",
    "        \n",
    "print('Temperature monitoring complete.')"
   ]
  },
  {
   "cell_type": "markdown",
   "id": "96a4b0b1",
   "metadata": {},
   "source": [
    "# TRAFFIC LIGHT CONTROL"
   ]
  },
  {
   "cell_type": "code",
   "execution_count": 3,
   "id": "67bf9e0f",
   "metadata": {},
   "outputs": [
    {
     "name": "stdout",
     "output_type": "stream",
     "text": [
      "Green light - Go!\n",
      "Yellow light - preapare to stop.\n",
      "Red light - Stop!\n",
      "Green light - Go!\n",
      "Yellow light - preapare to stop.\n",
      "Red light - Stop!\n",
      "Green light - Go!\n",
      "Yellow light - preapare to stop.\n",
      "Red light - Stop!\n"
     ]
    }
   ],
   "source": [
    "import time\n",
    "\n",
    "def traffic_light_controller(cycles):\n",
    "    for _ in range(cycles):\n",
    "        # Green Light\n",
    "        print(\"Green light - Go!\")\n",
    "        time.sleep(5)\n",
    "        \n",
    "        # Yellow Light\n",
    "        print(\"Yellow light - preapare to stop.\")\n",
    "        time.sleep(2)\n",
    "        \n",
    "        # Red Light\n",
    "        print(\"Red light - Stop!\")\n",
    "        time.sleep(5)\n",
    "\n",
    "traffic_light_controller(3)"
   ]
  },
  {
   "cell_type": "code",
   "execution_count": null,
   "id": "2d28d400",
   "metadata": {},
   "outputs": [],
   "source": []
  }
 ],
 "metadata": {
  "kernelspec": {
   "display_name": "Python 3 (ipykernel)",
   "language": "python",
   "name": "python3"
  },
  "language_info": {
   "codemirror_mode": {
    "name": "ipython",
    "version": 3
   },
   "file_extension": ".py",
   "mimetype": "text/x-python",
   "name": "python",
   "nbconvert_exporter": "python",
   "pygments_lexer": "ipython3",
   "version": "3.11.5"
  }
 },
 "nbformat": 4,
 "nbformat_minor": 5
}
