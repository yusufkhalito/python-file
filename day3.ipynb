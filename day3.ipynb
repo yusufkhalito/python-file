{
 "cells": [
  {
   "cell_type": "code",
   "execution_count": 1,
   "id": "e8a393b6",
   "metadata": {},
   "outputs": [
    {
     "name": "stdout",
     "output_type": "stream",
     "text": [
      "Enter First Number:30\n",
      "Enter Second Number:18\n",
      "True\n",
      "False\n",
      "True\n",
      "False\n",
      "False\n",
      "True\n"
     ]
    }
   ],
   "source": [
    "num1 = int(input('Enter First Number:'))\n",
    "num2 = int(input('Enter Second Number:'))\n",
    "print(num1 > num2)\n",
    "print(num1 < num2)\n",
    "print(num1 >= num2)\n",
    "print(num1 <= num2)\n",
    "print(num1 == num2)\n",
    "print(num1 != num2)"
   ]
  },
  {
   "cell_type": "code",
   "execution_count": 2,
   "id": "db2d2ccf",
   "metadata": {},
   "outputs": [
    {
     "name": "stdout",
     "output_type": "stream",
     "text": [
      "False\n",
      "False\n",
      "False\n"
     ]
    }
   ],
   "source": [
    "print(num1 == num2 and num1 <= num2)\n",
    "print(num1 == num2 or num1 <= num2)\n",
    "print(not num1)"
   ]
  },
  {
   "cell_type": "code",
   "execution_count": 3,
   "id": "65ade4b5",
   "metadata": {},
   "outputs": [
    {
     "name": "stdout",
     "output_type": "stream",
     "text": [
      "False\n",
      "True\n"
     ]
    }
   ],
   "source": [
    "print(num1 is num2)\n",
    "print(num1 is not num2)"
   ]
  },
  {
   "cell_type": "code",
   "execution_count": 4,
   "id": "d7d954d7",
   "metadata": {},
   "outputs": [],
   "source": [
    "numbers = (60,90,11,18,19,17,16,22,190,680,700,52,62,98,76,10,15,88)"
   ]
  },
  {
   "cell_type": "code",
   "execution_count": 5,
   "id": "a4129c3b",
   "metadata": {},
   "outputs": [
    {
     "name": "stdout",
     "output_type": "stream",
     "text": [
      "18\n"
     ]
    }
   ],
   "source": [
    "print(len(numbers))"
   ]
  },
  {
   "cell_type": "code",
   "execution_count": 6,
   "id": "61f44752",
   "metadata": {},
   "outputs": [
    {
     "name": "stdout",
     "output_type": "stream",
     "text": [
      "<class 'tuple'>\n"
     ]
    }
   ],
   "source": [
    "print(type(numbers))"
   ]
  },
  {
   "cell_type": "code",
   "execution_count": 7,
   "id": "7bf1ed94",
   "metadata": {},
   "outputs": [
    {
     "ename": "NameError",
     "evalue": "name 'nmubers' is not defined",
     "output_type": "error",
     "traceback": [
      "\u001b[1;31m---------------------------------------------------------------------------\u001b[0m",
      "\u001b[1;31mNameError\u001b[0m                                 Traceback (most recent call last)",
      "Cell \u001b[1;32mIn[7], line 1\u001b[0m\n\u001b[1;32m----> 1\u001b[0m \u001b[38;5;28mprint\u001b[39m(nmubers[\u001b[38;5;241m9\u001b[39m])\n",
      "\u001b[1;31mNameError\u001b[0m: name 'nmubers' is not defined"
     ]
    }
   ],
   "source": [
    "print(nmubers[9])"
   ]
  },
  {
   "cell_type": "code",
   "execution_count": 8,
   "id": "7bd382f0",
   "metadata": {},
   "outputs": [
    {
     "name": "stdout",
     "output_type": "stream",
     "text": [
      "680\n"
     ]
    }
   ],
   "source": [
    "print(numbers[9]) # forward selection of a value counting from 0"
   ]
  },
  {
   "cell_type": "code",
   "execution_count": 9,
   "id": "6698d386",
   "metadata": {},
   "outputs": [
    {
     "name": "stdout",
     "output_type": "stream",
     "text": [
      "52\n"
     ]
    }
   ],
   "source": [
    "print(numbers[-7]) # backward selection of a value counting from -1"
   ]
  },
  {
   "cell_type": "code",
   "execution_count": 10,
   "id": "ef81ec89",
   "metadata": {},
   "outputs": [
    {
     "name": "stdout",
     "output_type": "stream",
     "text": [
      "False\n"
     ]
    }
   ],
   "source": [
    "print(500 in numbers)"
   ]
  },
  {
   "cell_type": "code",
   "execution_count": 11,
   "id": "4d029117",
   "metadata": {},
   "outputs": [
    {
     "name": "stdout",
     "output_type": "stream",
     "text": [
      "True\n"
     ]
    }
   ],
   "source": [
    "print(500 not in numbers)"
   ]
  },
  {
   "cell_type": "code",
   "execution_count": 12,
   "id": "1a317e57",
   "metadata": {},
   "outputs": [
    {
     "name": "stdout",
     "output_type": "stream",
     "text": [
      "0\n"
     ]
    }
   ],
   "source": [
    "print(numbers.count(14))"
   ]
  },
  {
   "cell_type": "code",
   "execution_count": 13,
   "id": "a3d03003",
   "metadata": {},
   "outputs": [
    {
     "name": "stdout",
     "output_type": "stream",
     "text": [
      "1\n"
     ]
    }
   ],
   "source": [
    "print(numbers.count(52))"
   ]
  },
  {
   "cell_type": "code",
   "execution_count": 14,
   "id": "5d0dab2b",
   "metadata": {},
   "outputs": [
    {
     "name": "stdout",
     "output_type": "stream",
     "text": [
      "11\n"
     ]
    }
   ],
   "source": [
    "print(numbers.index(52))"
   ]
  },
  {
   "cell_type": "code",
   "execution_count": 15,
   "id": "68200e1b",
   "metadata": {},
   "outputs": [],
   "source": [
    "items = ['Banana','Apple','Lemon','orange']"
   ]
  },
  {
   "cell_type": "code",
   "execution_count": 16,
   "id": "e89120a3",
   "metadata": {},
   "outputs": [
    {
     "name": "stdout",
     "output_type": "stream",
     "text": [
      "['Banana', 'Apple', 'Lemon', 'orange', 'Pear']\n"
     ]
    }
   ],
   "source": [
    "items.append('Pear')\n",
    "print(items) # append will add the new value at the end of the existing list"
   ]
  },
  {
   "cell_type": "code",
   "execution_count": 17,
   "id": "602081cc",
   "metadata": {},
   "outputs": [
    {
     "name": "stdout",
     "output_type": "stream",
     "text": [
      "['Banana', 'Apple', 'Lemon', 'strawberry', 'orange', 'Pear']\n"
     ]
    }
   ],
   "source": [
    "items.insert(3,'strawberry')# insert will add the new value at the specified location in the existing list\n",
    "print(items)"
   ]
  },
  {
   "cell_type": "code",
   "execution_count": 18,
   "id": "67fb8478",
   "metadata": {},
   "outputs": [
    {
     "name": "stdout",
     "output_type": "stream",
     "text": [
      "['Banana', 'Apple', 'Lemon', 'strawberry', 'orange', 'Pear', 'Lemon', 'Pear', 'Coconut']\n"
     ]
    }
   ],
   "source": [
    "f = ['Lemon','Pear','Coconut']\n",
    "items.extend(f)# extend will add all values from an existing list to our present working list\n",
    "print(items)"
   ]
  },
  {
   "cell_type": "code",
   "execution_count": 19,
   "id": "0f0a16d2",
   "metadata": {},
   "outputs": [
    {
     "name": "stdout",
     "output_type": "stream",
     "text": [
      "['Banana', 'Apple', 'Lemon', 'strawberry', 'orange', 'Lemon', 'Pear', 'Coconut']\n"
     ]
    }
   ],
   "source": [
    "items.pop(5)# pop will remove a value on the specified index location\n",
    "print(items)"
   ]
  },
  {
   "cell_type": "code",
   "execution_count": 20,
   "id": "4a9ee8ea",
   "metadata": {},
   "outputs": [
    {
     "name": "stdout",
     "output_type": "stream",
     "text": [
      "['Banana', 'Apple', 'strawberry', 'orange', 'Lemon', 'Pear', 'Coconut']\n"
     ]
    }
   ],
   "source": [
    "items.remove('Lemon')# remove will drop the specified value\n",
    "print(items)"
   ]
  },
  {
   "cell_type": "code",
   "execution_count": 21,
   "id": "f13fde63",
   "metadata": {},
   "outputs": [
    {
     "name": "stdout",
     "output_type": "stream",
     "text": [
      "['Apple', 'Banana', 'Coconut', 'Lemon', 'Pear', 'orange', 'strawberry']\n"
     ]
    }
   ],
   "source": [
    "items.sort()\n",
    "print(items)"
   ]
  },
  {
   "cell_type": "code",
   "execution_count": 22,
   "id": "6738f5a4",
   "metadata": {},
   "outputs": [
    {
     "name": "stdout",
     "output_type": "stream",
     "text": [
      "['strawberry', 'orange', 'Pear', 'Lemon', 'Coconut', 'Banana', 'Apple']\n"
     ]
    }
   ],
   "source": [
    "items.reverse()\n",
    "print(items)"
   ]
  },
  {
   "cell_type": "code",
   "execution_count": 23,
   "id": "2be4eeb6",
   "metadata": {},
   "outputs": [
    {
     "name": "stdout",
     "output_type": "stream",
     "text": [
      "['strawberry', 'orange', 'Pear', 'Lemon', 'Coconut', 'Banana', 'Apple']\n"
     ]
    }
   ],
   "source": [
    "items_copy = items.copy()\n",
    "print(items_copy)"
   ]
  },
  {
   "cell_type": "code",
   "execution_count": 24,
   "id": "1d0848a5",
   "metadata": {},
   "outputs": [
    {
     "name": "stdout",
     "output_type": "stream",
     "text": [
      "[]\n"
     ]
    }
   ],
   "source": [
    "items_copy.clear()\n",
    "print(items_copy)"
   ]
  },
  {
   "cell_type": "code",
   "execution_count": 25,
   "id": "2dad0df2",
   "metadata": {},
   "outputs": [
    {
     "ename": "NameError",
     "evalue": "name 'items_copy' is not defined",
     "output_type": "error",
     "traceback": [
      "\u001b[1;31m---------------------------------------------------------------------------\u001b[0m",
      "\u001b[1;31mNameError\u001b[0m                                 Traceback (most recent call last)",
      "Cell \u001b[1;32mIn[25], line 2\u001b[0m\n\u001b[0;32m      1\u001b[0m \u001b[38;5;28;01mdel\u001b[39;00m(items_copy)\n\u001b[1;32m----> 2\u001b[0m \u001b[38;5;28mprint\u001b[39m(items_copy)\n",
      "\u001b[1;31mNameError\u001b[0m: name 'items_copy' is not defined"
     ]
    }
   ],
   "source": [
    "del(items_copy)\n",
    "print(items_copy)# it is possible to have an error like the one below"
   ]
  },
  {
   "cell_type": "code",
   "execution_count": null,
   "id": "902e9b40",
   "metadata": {},
   "outputs": [],
   "source": []
  }
 ],
 "metadata": {
  "kernelspec": {
   "display_name": "Python 3 (ipykernel)",
   "language": "python",
   "name": "python3"
  },
  "language_info": {
   "codemirror_mode": {
    "name": "ipython",
    "version": 3
   },
   "file_extension": ".py",
   "mimetype": "text/x-python",
   "name": "python",
   "nbconvert_exporter": "python",
   "pygments_lexer": "ipython3",
   "version": "3.11.5"
  }
 },
 "nbformat": 4,
 "nbformat_minor": 5
}
