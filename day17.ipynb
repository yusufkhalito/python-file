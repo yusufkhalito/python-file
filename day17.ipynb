{
 "cells": [
  {
   "cell_type": "code",
   "execution_count": 1,
   "id": "0e79e03a",
   "metadata": {},
   "outputs": [
    {
     "name": "stdout",
     "output_type": "stream",
     "text": [
      "^C\n",
      "\n",
      "Note: you may need to restart the kernel to use updated packages.\n"
     ]
    }
   ],
   "source": [
    "conda install -c anaconda mysql-connector-python"
   ]
  },
  {
   "cell_type": "markdown",
   "id": "296f1001",
   "metadata": {},
   "source": [
    "## Write a simple Python code for a phone store management system with MySQL as the database"
   ]
  },
  {
   "cell_type": "code",
   "execution_count": 5,
   "id": "77411690",
   "metadata": {},
   "outputs": [],
   "source": [
    "import pymysql"
   ]
  },
  {
   "cell_type": "code",
   "execution_count": 4,
   "id": "5b0a8ff8",
   "metadata": {},
   "outputs": [
    {
     "ename": "ProgrammingError",
     "evalue": "(1007, \"Can't create database 'phonestore'; database exists\")",
     "output_type": "error",
     "traceback": [
      "\u001b[1;31m---------------------------------------------------------------------------\u001b[0m",
      "\u001b[1;31mProgrammingError\u001b[0m                          Traceback (most recent call last)",
      "Cell \u001b[1;32mIn[4], line 8\u001b[0m\n\u001b[0;32m      1\u001b[0m mydb \u001b[38;5;241m=\u001b[39m pymysql\u001b[38;5;241m.\u001b[39mconnect(\n\u001b[0;32m      2\u001b[0m     host \u001b[38;5;241m=\u001b[39m \u001b[38;5;124m'\u001b[39m\u001b[38;5;124mlocalhost\u001b[39m\u001b[38;5;124m'\u001b[39m,\n\u001b[0;32m      3\u001b[0m     user \u001b[38;5;241m=\u001b[39m \u001b[38;5;124m'\u001b[39m\u001b[38;5;124mroot\u001b[39m\u001b[38;5;124m'\u001b[39m,\n\u001b[0;32m      4\u001b[0m     port \u001b[38;5;241m=\u001b[39m \u001b[38;5;241m3306\u001b[39m,\n\u001b[0;32m      5\u001b[0m     password \u001b[38;5;241m=\u001b[39m\u001b[38;5;124m'\u001b[39m\u001b[38;5;124menosejele\u001b[39m\u001b[38;5;124m'\u001b[39m\n\u001b[0;32m      6\u001b[0m )\n\u001b[0;32m      7\u001b[0m mycursor \u001b[38;5;241m=\u001b[39m mydb\u001b[38;5;241m.\u001b[39mcursor()\n\u001b[1;32m----> 8\u001b[0m mycursor\u001b[38;5;241m.\u001b[39mexecute(\u001b[38;5;124m'\u001b[39m\u001b[38;5;124mcreate database PHONESTORE;\u001b[39m\u001b[38;5;124m'\u001b[39m)\n\u001b[0;32m      9\u001b[0m mycursor\u001b[38;5;241m.\u001b[39mexecute(\u001b[38;5;124m'\u001b[39m\u001b[38;5;124mshow databases\u001b[39m\u001b[38;5;124m'\u001b[39m)\n\u001b[0;32m     10\u001b[0m \u001b[38;5;28;01mfor\u001b[39;00m x \u001b[38;5;129;01min\u001b[39;00m mycursor:\n",
      "File \u001b[1;32m~\\anaconda3\\Lib\\site-packages\\pymysql\\cursors.py:148\u001b[0m, in \u001b[0;36mCursor.execute\u001b[1;34m(self, query, args)\u001b[0m\n\u001b[0;32m    144\u001b[0m     \u001b[38;5;28;01mpass\u001b[39;00m\n\u001b[0;32m    146\u001b[0m query \u001b[38;5;241m=\u001b[39m \u001b[38;5;28mself\u001b[39m\u001b[38;5;241m.\u001b[39mmogrify(query, args)\n\u001b[1;32m--> 148\u001b[0m result \u001b[38;5;241m=\u001b[39m \u001b[38;5;28mself\u001b[39m\u001b[38;5;241m.\u001b[39m_query(query)\n\u001b[0;32m    149\u001b[0m \u001b[38;5;28mself\u001b[39m\u001b[38;5;241m.\u001b[39m_executed \u001b[38;5;241m=\u001b[39m query\n\u001b[0;32m    150\u001b[0m \u001b[38;5;28;01mreturn\u001b[39;00m result\n",
      "File \u001b[1;32m~\\anaconda3\\Lib\\site-packages\\pymysql\\cursors.py:310\u001b[0m, in \u001b[0;36mCursor._query\u001b[1;34m(self, q)\u001b[0m\n\u001b[0;32m    308\u001b[0m \u001b[38;5;28mself\u001b[39m\u001b[38;5;241m.\u001b[39m_last_executed \u001b[38;5;241m=\u001b[39m q\n\u001b[0;32m    309\u001b[0m \u001b[38;5;28mself\u001b[39m\u001b[38;5;241m.\u001b[39m_clear_result()\n\u001b[1;32m--> 310\u001b[0m conn\u001b[38;5;241m.\u001b[39mquery(q)\n\u001b[0;32m    311\u001b[0m \u001b[38;5;28mself\u001b[39m\u001b[38;5;241m.\u001b[39m_do_get_result()\n\u001b[0;32m    312\u001b[0m \u001b[38;5;28;01mreturn\u001b[39;00m \u001b[38;5;28mself\u001b[39m\u001b[38;5;241m.\u001b[39mrowcount\n",
      "File \u001b[1;32m~\\anaconda3\\Lib\\site-packages\\pymysql\\connections.py:548\u001b[0m, in \u001b[0;36mConnection.query\u001b[1;34m(self, sql, unbuffered)\u001b[0m\n\u001b[0;32m    546\u001b[0m     sql \u001b[38;5;241m=\u001b[39m sql\u001b[38;5;241m.\u001b[39mencode(\u001b[38;5;28mself\u001b[39m\u001b[38;5;241m.\u001b[39mencoding, \u001b[38;5;124m\"\u001b[39m\u001b[38;5;124msurrogateescape\u001b[39m\u001b[38;5;124m\"\u001b[39m)\n\u001b[0;32m    547\u001b[0m \u001b[38;5;28mself\u001b[39m\u001b[38;5;241m.\u001b[39m_execute_command(COMMAND\u001b[38;5;241m.\u001b[39mCOM_QUERY, sql)\n\u001b[1;32m--> 548\u001b[0m \u001b[38;5;28mself\u001b[39m\u001b[38;5;241m.\u001b[39m_affected_rows \u001b[38;5;241m=\u001b[39m \u001b[38;5;28mself\u001b[39m\u001b[38;5;241m.\u001b[39m_read_query_result(unbuffered\u001b[38;5;241m=\u001b[39munbuffered)\n\u001b[0;32m    549\u001b[0m \u001b[38;5;28;01mreturn\u001b[39;00m \u001b[38;5;28mself\u001b[39m\u001b[38;5;241m.\u001b[39m_affected_rows\n",
      "File \u001b[1;32m~\\anaconda3\\Lib\\site-packages\\pymysql\\connections.py:775\u001b[0m, in \u001b[0;36mConnection._read_query_result\u001b[1;34m(self, unbuffered)\u001b[0m\n\u001b[0;32m    773\u001b[0m \u001b[38;5;28;01melse\u001b[39;00m:\n\u001b[0;32m    774\u001b[0m     result \u001b[38;5;241m=\u001b[39m MySQLResult(\u001b[38;5;28mself\u001b[39m)\n\u001b[1;32m--> 775\u001b[0m     result\u001b[38;5;241m.\u001b[39mread()\n\u001b[0;32m    776\u001b[0m \u001b[38;5;28mself\u001b[39m\u001b[38;5;241m.\u001b[39m_result \u001b[38;5;241m=\u001b[39m result\n\u001b[0;32m    777\u001b[0m \u001b[38;5;28;01mif\u001b[39;00m result\u001b[38;5;241m.\u001b[39mserver_status \u001b[38;5;129;01mis\u001b[39;00m \u001b[38;5;129;01mnot\u001b[39;00m \u001b[38;5;28;01mNone\u001b[39;00m:\n",
      "File \u001b[1;32m~\\anaconda3\\Lib\\site-packages\\pymysql\\connections.py:1156\u001b[0m, in \u001b[0;36mMySQLResult.read\u001b[1;34m(self)\u001b[0m\n\u001b[0;32m   1154\u001b[0m \u001b[38;5;28;01mdef\u001b[39;00m \u001b[38;5;21mread\u001b[39m(\u001b[38;5;28mself\u001b[39m):\n\u001b[0;32m   1155\u001b[0m     \u001b[38;5;28;01mtry\u001b[39;00m:\n\u001b[1;32m-> 1156\u001b[0m         first_packet \u001b[38;5;241m=\u001b[39m \u001b[38;5;28mself\u001b[39m\u001b[38;5;241m.\u001b[39mconnection\u001b[38;5;241m.\u001b[39m_read_packet()\n\u001b[0;32m   1158\u001b[0m         \u001b[38;5;28;01mif\u001b[39;00m first_packet\u001b[38;5;241m.\u001b[39mis_ok_packet():\n\u001b[0;32m   1159\u001b[0m             \u001b[38;5;28mself\u001b[39m\u001b[38;5;241m.\u001b[39m_read_ok_packet(first_packet)\n",
      "File \u001b[1;32m~\\anaconda3\\Lib\\site-packages\\pymysql\\connections.py:725\u001b[0m, in \u001b[0;36mConnection._read_packet\u001b[1;34m(self, packet_type)\u001b[0m\n\u001b[0;32m    723\u001b[0m     \u001b[38;5;28;01mif\u001b[39;00m \u001b[38;5;28mself\u001b[39m\u001b[38;5;241m.\u001b[39m_result \u001b[38;5;129;01mis\u001b[39;00m \u001b[38;5;129;01mnot\u001b[39;00m \u001b[38;5;28;01mNone\u001b[39;00m \u001b[38;5;129;01mand\u001b[39;00m \u001b[38;5;28mself\u001b[39m\u001b[38;5;241m.\u001b[39m_result\u001b[38;5;241m.\u001b[39munbuffered_active \u001b[38;5;129;01mis\u001b[39;00m \u001b[38;5;28;01mTrue\u001b[39;00m:\n\u001b[0;32m    724\u001b[0m         \u001b[38;5;28mself\u001b[39m\u001b[38;5;241m.\u001b[39m_result\u001b[38;5;241m.\u001b[39munbuffered_active \u001b[38;5;241m=\u001b[39m \u001b[38;5;28;01mFalse\u001b[39;00m\n\u001b[1;32m--> 725\u001b[0m     packet\u001b[38;5;241m.\u001b[39mraise_for_error()\n\u001b[0;32m    726\u001b[0m \u001b[38;5;28;01mreturn\u001b[39;00m packet\n",
      "File \u001b[1;32m~\\anaconda3\\Lib\\site-packages\\pymysql\\protocol.py:221\u001b[0m, in \u001b[0;36mMysqlPacket.raise_for_error\u001b[1;34m(self)\u001b[0m\n\u001b[0;32m    219\u001b[0m \u001b[38;5;28;01mif\u001b[39;00m DEBUG:\n\u001b[0;32m    220\u001b[0m     \u001b[38;5;28mprint\u001b[39m(\u001b[38;5;124m\"\u001b[39m\u001b[38;5;124merrno =\u001b[39m\u001b[38;5;124m\"\u001b[39m, errno)\n\u001b[1;32m--> 221\u001b[0m err\u001b[38;5;241m.\u001b[39mraise_mysql_exception(\u001b[38;5;28mself\u001b[39m\u001b[38;5;241m.\u001b[39m_data)\n",
      "File \u001b[1;32m~\\anaconda3\\Lib\\site-packages\\pymysql\\err.py:143\u001b[0m, in \u001b[0;36mraise_mysql_exception\u001b[1;34m(data)\u001b[0m\n\u001b[0;32m    141\u001b[0m \u001b[38;5;28;01mif\u001b[39;00m errorclass \u001b[38;5;129;01mis\u001b[39;00m \u001b[38;5;28;01mNone\u001b[39;00m:\n\u001b[0;32m    142\u001b[0m     errorclass \u001b[38;5;241m=\u001b[39m InternalError \u001b[38;5;28;01mif\u001b[39;00m errno \u001b[38;5;241m<\u001b[39m \u001b[38;5;241m1000\u001b[39m \u001b[38;5;28;01melse\u001b[39;00m OperationalError\n\u001b[1;32m--> 143\u001b[0m \u001b[38;5;28;01mraise\u001b[39;00m errorclass(errno, errval)\n",
      "\u001b[1;31mProgrammingError\u001b[0m: (1007, \"Can't create database 'phonestore'; database exists\")"
     ]
    }
   ],
   "source": [
    "mydb = pymysql.connect(\n",
    "    host = 'localhost',\n",
    "    user = 'root',\n",
    "    port = 3306,\n",
    "    password ='enosejele'\n",
    ")\n",
    "mycursor = mydb.cursor()\n",
    "mycursor.execute('create database PHONESTORE;')\n",
    "mycursor.execute('show databases')\n",
    "for x in mycursor:\n",
    "    print(x)    "
   ]
  },
  {
   "cell_type": "code",
   "execution_count": 8,
   "id": "3144456a",
   "metadata": {},
   "outputs": [
    {
     "name": "stdout",
     "output_type": "stream",
     "text": [
      "Entef MYSQL host:localhost\n",
      "Entef MYSQL user:root\n",
      "Entef MYSQL port:3306\n",
      "Entef MYSQL password:enosejele\n",
      "\n",
      "Phone Store Management System\n",
      "1. Add Phone\n",
      "2. Search Phone\n",
      "3. Exit\n",
      "Enter your choice (1/2/3):1\n",
      "Enter Phone Brand:infinix\n",
      "Enter Phone Model:Hot 30i\n",
      "Enter Phone Price:100000\n",
      "PHONE ADDED SUCCESSFULLY!\n",
      "\n",
      "Phone Store Management System\n",
      "1. Add Phone\n",
      "2. Search Phone\n",
      "3. Exit\n",
      "Enter your choice (1/2/3):samsung\n",
      "Invalid input. Please enter 1,2 or 3\n",
      "\n",
      "Phone Store Management System\n",
      "1. Add Phone\n",
      "2. Search Phone\n",
      "3. Exit\n",
      "Enter your choice (1/2/3):1\n",
      "Enter Phone Brand:samsung\n",
      "Enter Phone Model:S23 Ultra\n",
      "Enter Phone Price:1500000\n",
      "PHONE ADDED SUCCESSFULLY!\n",
      "\n",
      "Phone Store Management System\n",
      "1. Add Phone\n",
      "2. Search Phone\n",
      "3. Exit\n",
      "Enter your choice (1/2/3):1\n",
      "Enter Phone Brand:Redmi\n",
      "Enter Phone Model:Note 12\n",
      "Enter Phone Price:190000\n",
      "PHONE ADDED SUCCESSFULLY!\n",
      "\n",
      "Phone Store Management System\n",
      "1. Add Phone\n",
      "2. Search Phone\n",
      "3. Exit\n",
      "Enter your choice (1/2/3):3\n"
     ]
    }
   ],
   "source": [
    "class PhoneStore:\n",
    "    def __init__(self, host,user,port,password,database):\n",
    "        self.conn = pymysql.connect(\n",
    "            host = host,\n",
    "            user = user,\n",
    "            port = port,\n",
    "            password = password,\n",
    "            database = database\n",
    "        )\n",
    "        self.cursor = self.conn.cursor()\n",
    "        self.create_table()\n",
    "        \n",
    "    def create_table(self):\n",
    "        self.cursor.execute('''\n",
    "        CREATE TABLE IF NOT EXISTS PHONETABLE(\n",
    "        ID INT AUTO_INCREMENT PRIMARY KEY NOT NULL,\n",
    "        BRAND VARCHAR(225) NOT NULL,\n",
    "        MODEL VARCHAR(225) NOT NULL,\n",
    "        PRICE FLOAT NOT NULL\n",
    "        )\n",
    "        ''')\n",
    "        self.conn.commit()\n",
    "    def add_phone(self,brand,model,price):\n",
    "        self.cursor.execute('INSERT INTO PHONETABLE(BRAND,MODEL,PRICE) VALUES(%s,%s,%s)',(brand,model,price))\n",
    "        self.conn.commit()\n",
    "        print('PHONE ADDED SUCCESSFULLY!')\n",
    "    def search_phone(self,keyword):\n",
    "        self.cursor.execute('SELECT * FROM PHONETABLE WHERE BRAND LIKE %s OR MODEL LIKE %s', (f'%{keyword}%', f'%{keyword}%'))\n",
    "        result = self.cursor.fetchall()\n",
    "        if not result:\n",
    "            print('NO MATCHING RECORDS FOUND.')\n",
    "        else:\n",
    "            print('MATCHING PHONE ARE:')\n",
    "            for row in result:\n",
    "                print(row)\n",
    "    def close_conn(self):\n",
    "        self.cursor.close()\n",
    "        self.conn.close()\n",
    "        \n",
    "def main():\n",
    "    host = input('Entef MYSQL host:')\n",
    "    user = input('Entef MYSQL user:')\n",
    "    port = int(input('Entef MYSQL port:'))\n",
    "    password = input('Entef MYSQL password:')\n",
    "    database = \"phonestore\"\n",
    "    program = PhoneStore(host, user, port, password, database)\n",
    "    while True:\n",
    "        print('\\nPhone Store Management System')\n",
    "        print('1. Add Phone\\n2. Search Phone\\n3. Exit')\n",
    "        choice = input('Enter your choice (1/2/3):')\n",
    "        if choice == '1':\n",
    "            BRAND = input('Enter Phone Brand:')\n",
    "            MODEL = input('Enter Phone Model:')\n",
    "            PRICE = float(input('Enter Phone Price:'))\n",
    "            program.add_phone(BRAND,MODEL,PRICE)\n",
    "        elif choice == '2':\n",
    "            keyword = input('Enter brand or model to search')\n",
    "            program.search_phone(keyword)\n",
    "        elif choice == '3':\n",
    "            break\n",
    "        else:\n",
    "            print('Invalid input. Please enter 1,2 or 3')\n",
    "            #program.close_conn()\n",
    "main()\n",
    "        "
   ]
  },
  {
   "cell_type": "code",
   "execution_count": null,
   "id": "5568b582",
   "metadata": {},
   "outputs": [],
   "source": []
  }
 ],
 "metadata": {
  "kernelspec": {
   "display_name": "Python 3 (ipykernel)",
   "language": "python",
   "name": "python3"
  },
  "language_info": {
   "codemirror_mode": {
    "name": "ipython",
    "version": 3
   },
   "file_extension": ".py",
   "mimetype": "text/x-python",
   "name": "python",
   "nbconvert_exporter": "python",
   "pygments_lexer": "ipython3",
   "version": "3.11.5"
  }
 },
 "nbformat": 4,
 "nbformat_minor": 5
}
