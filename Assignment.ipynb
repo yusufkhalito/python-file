{
 "cells": [
  {
   "cell_type": "markdown",
   "id": "2018e37f",
   "metadata": {},
   "source": [
    "# Assignment One: Operators"
   ]
  },
  {
   "cell_type": "code",
   "execution_count": 6,
   "id": "17d470ef",
   "metadata": {},
   "outputs": [
    {
     "name": "stdout",
     "output_type": "stream",
     "text": [
      "The amount after 3 years will be: $1157.63\n"
     ]
    }
   ],
   "source": [
    "# problem one solution\n",
    "# define the principal amount, annual interest rate, and the number of years\n",
    "principal = 1000\n",
    "annual_interest_rate = 0.05\n",
    "years = 3\n",
    "# calculate the amount using the compound interest formula\n",
    "amount = principal * (1 + annual_interest_rate) ** years\n",
    "# print the final amount\n",
    "print(f\"The amount after {years} years will be: ${amount:.2f}\")"
   ]
  },
  {
   "cell_type": "code",
   "execution_count": 9,
   "id": "11b56a14",
   "metadata": {},
   "outputs": [
    {
     "name": "stdout",
     "output_type": "stream",
     "text": [
      "It will take 8000.0 seonds to perform the task 1000000 times.\n"
     ]
    }
   ],
   "source": [
    "# problem 2 soloution\n",
    "# define the time per operation in milliseconds and the number of operations\n",
    "time_per_operation_ms = 8\n",
    "number_of_operations = 1000000\n",
    "# calculate the total time in milliseconds\n",
    "total_time_ms = time_per_operation_ms * number_of_operations\n",
    "# convert milliseconds to seconds \n",
    "total_time_s = total_time_ms / 1000\n",
    "print(f\"It will take {total_time_s} seonds to perform the task {number_of_operations} times.\")"
   ]
  },
  {
   "cell_type": "code",
   "execution_count": 10,
   "id": "a2ad157b",
   "metadata": {},
   "outputs": [
    {
     "name": "stdout",
     "output_type": "stream",
     "text": [
      "The 10th term in the sequence is: 1024\n"
     ]
    }
   ],
   "source": [
    "# problem 3 solution \n",
    "# Define the first term and the common ratio\n",
    "first_term = 2\n",
    "common_ratio = 2\n",
    "# calculate the 10th term\n",
    "n = 10\n",
    "tenth_term = first_term * (common_ratio ** (n - 1))\n",
    "print(f\"The 10th term in the sequence is: {tenth_term}\")"
   ]
  },
  {
   "cell_type": "code",
   "execution_count": 14,
   "id": "44c12231",
   "metadata": {},
   "outputs": [
    {
     "name": "stdout",
     "output_type": "stream",
     "text": [
      "You need 1 hard drives to allocate 1 terabyte of storage.\n"
     ]
    }
   ],
   "source": [
    "# problem 4 soloution \n",
    "# Define the total storage required and the storage capacity of each hard drive\n",
    "total_storage_required_tb = 1\n",
    "storage_capacity_per_drive_tb = 2\n",
    "# calcuate the number of hard drives needed\n",
    "hard_drives_needed = total_storage_required_tb / storage_capacity_per_drive_tb\n",
    "# round up to the neerest wholw number, in case you can't hae a fraction of a hard drive\n",
    "import math\n",
    "hard_drives_needed = math.ceil(hard_drives_needed)\n",
    "print(f\"You need {hard_drives_needed} hard drives to allocate 1 terabyte of storage.\")"
   ]
  },
  {
   "cell_type": "markdown",
   "id": "1988493c",
   "metadata": {},
   "source": [
    "# Assignment Two Operators: Iterable Object"
   ]
  },
  {
   "cell_type": "markdown",
   "id": "b3de2b14",
   "metadata": {},
   "source": [
    "# Lists"
   ]
  },
  {
   "cell_type": "code",
   "execution_count": 17,
   "id": "5ebd027a",
   "metadata": {},
   "outputs": [
    {
     "name": "stdout",
     "output_type": "stream",
     "text": [
      "[1, 2, 3, 4, 5, 6]\n"
     ]
    }
   ],
   "source": [
    "# Question 1 answer:\n",
    "Numbers = [1,2,3,4,5]\n",
    "Numbers.append(6)\n",
    "print(Numbers)"
   ]
  },
  {
   "cell_type": "code",
   "execution_count": 19,
   "id": "b6646c98",
   "metadata": {},
   "outputs": [
    {
     "name": "stdout",
     "output_type": "stream",
     "text": [
      "8\n"
     ]
    }
   ],
   "source": [
    "# Question 2 answer:\n",
    "Numbers = [1,5,9,10,18,19,20,64]\n",
    "print(len(Numbers))"
   ]
  },
  {
   "cell_type": "code",
   "execution_count": 20,
   "id": "dff423a1",
   "metadata": {},
   "outputs": [
    {
     "name": "stdout",
     "output_type": "stream",
     "text": [
      "['Pineapple', 'Tangerine', 'Raspberry', 'Blueberry', 'Peach']\n"
     ]
    }
   ],
   "source": [
    "# Question 3 answer:\n",
    "# Using the remove function\n",
    "fruits = ['Pineapple','Watermelon','Tangerine','Raspberry','Blueberry','Peach']\n",
    "fruits.remove('Watermelon')\n",
    "print(fruits)"
   ]
  },
  {
   "cell_type": "code",
   "execution_count": 21,
   "id": "4773894c",
   "metadata": {},
   "outputs": [
    {
     "name": "stdout",
     "output_type": "stream",
     "text": [
      "True\n"
     ]
    }
   ],
   "source": [
    "# Question 4 answer:\n",
    "# Using In function\n",
    "Numbers = [100,200,300,400,500,600,700,800,999]\n",
    "print(500 in Numbers)"
   ]
  },
  {
   "cell_type": "code",
   "execution_count": 22,
   "id": "cf77eecf",
   "metadata": {},
   "outputs": [
    {
     "name": "stdout",
     "output_type": "stream",
     "text": [
      "The Smallest Element In This List is : 80\n",
      "The Largest Element In This List is : 999\n"
     ]
    }
   ],
   "source": [
    "# Question 5 answer:\n",
    "NumList = [90,80,100,600,550,880,999]\n",
    "print(\"The Smallest Element In This List is :\",min(NumList))\n",
    "print(\"The Largest Element In This List is :\",max(NumList))"
   ]
  },
  {
   "cell_type": "code",
   "execution_count": 23,
   "id": "b86be0f5",
   "metadata": {},
   "outputs": [
    {
     "name": "stdout",
     "output_type": "stream",
     "text": [
      "['Destiny', 'Fatima', 'Goke', 'Hafiz', 'Khalid', 'Lilian', 'Mutalib', 'Wisdom']\n"
     ]
    }
   ],
   "source": [
    "# Question 6 answer:\n",
    "Names = ['Fatima','Wisdom','Hafiz','Khalid','Goke','Lilian','Mutalib','Destiny']\n",
    "Names.sort()\n",
    "print(Names)"
   ]
  },
  {
   "cell_type": "code",
   "execution_count": 25,
   "id": "9a47d93f",
   "metadata": {},
   "outputs": [
    {
     "name": "stdout",
     "output_type": "stream",
     "text": [
      "['Destiny', 'Fatima', 'Goke', 'Hafiz', 'Khalid', 'Lilian', 'Mutalib', 'Wisdom']\n"
     ]
    }
   ],
   "source": [
    "# Question 7 answer:\n",
    "Names_copy = Names.copy()\n",
    "print(Names_copy)"
   ]
  },
  {
   "cell_type": "code",
   "execution_count": 26,
   "id": "51a53b58",
   "metadata": {},
   "outputs": [
    {
     "name": "stdout",
     "output_type": "stream",
     "text": [
      "[]\n"
     ]
    }
   ],
   "source": [
    "# Clearing the duplicate to create a new list without duplicate\n",
    "Names_copy.clear()\n",
    "print(Names_copy)"
   ]
  },
  {
   "cell_type": "code",
   "execution_count": 28,
   "id": "7d144271",
   "metadata": {},
   "outputs": [
    {
     "name": "stdout",
     "output_type": "stream",
     "text": [
      "['Destiny', 'Mutalib', 'Lilian', 'Goke', 'Khalid', 'Hafiz', 'Wisdom', 'Fatima']\n"
     ]
    }
   ],
   "source": [
    "# Question 8 answer:\n",
    "# Using the reverse function\n",
    "Names = ['Fatima','Wisdom','Hafiz','Khalid','Goke','Lilian','Mutalib','Destiny']\n",
    "Names.reverse()\n",
    "print(Names)"
   ]
  },
  {
   "cell_type": "code",
   "execution_count": 29,
   "id": "f96004d8",
   "metadata": {},
   "outputs": [
    {
     "name": "stdout",
     "output_type": "stream",
     "text": [
      "['Destiny', 'Mutalib', 'Lilian', 'Goke', 'Khalid', 'Hafiz', 'Wisdom', 'Fatima', 'Sarah', 'Edith', 'Jarvis']\n"
     ]
    }
   ],
   "source": [
    "# Question 9 answer:\n",
    "# Combine the two lists using the extend function\n",
    "f = ['Sarah','Edith','Jarvis']\n",
    "Names.extend(f)\n",
    "print(Names)"
   ]
  },
  {
   "cell_type": "code",
   "execution_count": 36,
   "id": "1038a4e0",
   "metadata": {},
   "outputs": [
    {
     "name": "stdout",
     "output_type": "stream",
     "text": [
      "10\n"
     ]
    }
   ],
   "source": [
    "# Question 10 answer:\n",
    "# To iterate through a list and perform specific operation for each element in python, you can use a \"for\" loop\n",
    "my_list = [1,2,3,4,5]\n",
    "for element in my_list:\n",
    "    result = element * 2 \n",
    "print(result)"
   ]
  },
  {
   "cell_type": "markdown",
   "id": "b6f7abdf",
   "metadata": {},
   "source": [
    "# Tuples"
   ]
  },
  {
   "cell_type": "code",
   "execution_count": 37,
   "id": "e4bbb585",
   "metadata": {},
   "outputs": [
    {
     "name": "stdout",
     "output_type": "stream",
     "text": [
      "90\n"
     ]
    }
   ],
   "source": [
    "# Question 1 answer:\n",
    "Numbers = (60,90,680)\n",
    "print(Numbers[1])"
   ]
  },
  {
   "cell_type": "code",
   "execution_count": 39,
   "id": "cad35948",
   "metadata": {},
   "outputs": [
    {
     "name": "stdout",
     "output_type": "stream",
     "text": [
      "(1, 2, 3, 4, 5, 6)\n"
     ]
    }
   ],
   "source": [
    "# Question 2 answer:\n",
    "# You can concatenate two tuples to create a new tuple in python by using the \"+\" operator.\n",
    "# Define two tuples\n",
    "tuple1 = (1,2,3)\n",
    "tuple2 = (4,5,6)\n",
    "# concatenate the two tuples to create a new tuple\n",
    "new_tuple = tuple1 + tuple2\n",
    "# print the new tuple\n",
    "print(new_tuple)"
   ]
  },
  {
   "cell_type": "code",
   "execution_count": 40,
   "id": "9e541c97",
   "metadata": {},
   "outputs": [],
   "source": [
    "# Question 3 answer :\n",
    "# NO: ONCE A TUPLE IS CREATED, YOU CANNOT CHANGE ITS VALUES. TUPLES ARE UNCHANGEABLE"
   ]
  },
  {
   "cell_type": "code",
   "execution_count": 41,
   "id": "7e7e9ff3",
   "metadata": {},
   "outputs": [
    {
     "name": "stdout",
     "output_type": "stream",
     "text": [
      "5\n"
     ]
    }
   ],
   "source": [
    "# Question 4 answer:\n",
    "Numbers = [10,20,30,40,50,60,70,80,90,100]\n",
    "print(Numbers.index(60))"
   ]
  },
  {
   "cell_type": "code",
   "execution_count": 42,
   "id": "931c4790",
   "metadata": {},
   "outputs": [
    {
     "name": "stdout",
     "output_type": "stream",
     "text": [
      "[1, 2, 3, 4, 5]\n"
     ]
    }
   ],
   "source": [
    "# Question 5 answer:\n",
    "# YES YOU CAN CONVERT A TUPLE TO A LIST IN PYTHON using the \"list() function\"\n",
    "# create a tuple\n",
    "my_tuple = (1,2,3,4,5)\n",
    "# convert the tuple to a list\n",
    "my_list = list(my_tuple)\n",
    "print(my_list)"
   ]
  },
  {
   "cell_type": "code",
   "execution_count": 44,
   "id": "43ead872",
   "metadata": {},
   "outputs": [
    {
     "name": "stdout",
     "output_type": "stream",
     "text": [
      "5\n"
     ]
    }
   ],
   "source": [
    "# Question 6 answer:\n",
    "Numbers = [10,60,10,76,20,10,48,90,80,66,55,11,10,56,78,90,89,10,19,18,16]\n",
    "print(Numbers.count(10))"
   ]
  },
  {
   "cell_type": "code",
   "execution_count": 48,
   "id": "6dce2618",
   "metadata": {},
   "outputs": [
    {
     "name": "stdout",
     "output_type": "stream",
     "text": [
      "MNNIT Allahabad\n",
      "5000\n",
      "Engineering\n"
     ]
    }
   ],
   "source": [
    "# Question 7 answer:\n",
    "a = (\"MNNIT Allahabad\", 5000, \"Engineering\")\n",
    "(college, student, type_of_college) = a\n",
    "print(college)\n",
    "print(student)\n",
    "print(type_of_college)"
   ]
  },
  {
   "cell_type": "code",
   "execution_count": 49,
   "id": "67cf695a",
   "metadata": {},
   "outputs": [
    {
     "name": "stdout",
     "output_type": "stream",
     "text": [
      "9\n",
      "Whatsup\n",
      "3.14\n",
      "[6, 9]\n"
     ]
    }
   ],
   "source": [
    "# Question 8 answer:\n",
    "mixed_tuple = (9, \"Whatsup\", 3.14, [6,9])\n",
    "# access and print the elements\n",
    "for element in mixed_tuple:\n",
    "    print(element)"
   ]
  },
  {
   "cell_type": "code",
   "execution_count": 50,
   "id": "3534c795",
   "metadata": {},
   "outputs": [
    {
     "name": "stdout",
     "output_type": "stream",
     "text": [
      "True\n"
     ]
    }
   ],
   "source": [
    "# Question 9 answer: \n",
    "Numbers = [50,90,30,20,58,98,45,87,29]\n",
    "print(98 in Numbers)"
   ]
  },
  {
   "cell_type": "code",
   "execution_count": 51,
   "id": "ff25169c",
   "metadata": {},
   "outputs": [
    {
     "name": "stdout",
     "output_type": "stream",
     "text": [
      "9\n"
     ]
    }
   ],
   "source": [
    "# Question 10 answer:\n",
    "Numbers = [50,90,30,20,58,98,45,87,29]\n",
    "print(len(Numbers))"
   ]
  },
  {
   "cell_type": "markdown",
   "id": "db65f1d2",
   "metadata": {},
   "source": [
    "# Dictionary"
   ]
  },
  {
   "cell_type": "code",
   "execution_count": 10,
   "id": "c4d0aa23",
   "metadata": {},
   "outputs": [
    {
     "name": "stdout",
     "output_type": "stream",
     "text": [
      "Tokyo\n"
     ]
    }
   ],
   "source": [
    "# Question number 1 answer\n",
    "person_info = {\n",
    "    \"Name\": \"Ayomide Ade\",\n",
    "    \"Age\": 18,\n",
    "    \"City\": \"Tokyo\"\n",
    "}\n",
    "print(person_info[\"City\"])"
   ]
  },
  {
   "cell_type": "code",
   "execution_count": 11,
   "id": "09fb44c6",
   "metadata": {},
   "outputs": [
    {
     "name": "stdout",
     "output_type": "stream",
     "text": [
      "{'Name': 'Ayomide Ade', 'Age': 18, 'City': 'Tokyo', 'Height': 6.6}\n"
     ]
    }
   ],
   "source": [
    "# Question number 2 answer\n",
    "person_info.update({'Height':6.6})\n",
    "print(person_info)"
   ]
  },
  {
   "cell_type": "code",
   "execution_count": 12,
   "id": "71e50cd7",
   "metadata": {},
   "outputs": [
    {
     "name": "stdout",
     "output_type": "stream",
     "text": [
      "{'Name': 'Ayomide Ade', 'Age': 20, 'City': 'Tokyo', 'Height': 6.6}\n"
     ]
    }
   ],
   "source": [
    "# Question number 3 answer\n",
    "# You can access the value using the records.update and the value you want to access\n",
    "person_info.update({'Age':20})\n",
    "print(person_info)"
   ]
  },
  {
   "cell_type": "code",
   "execution_count": 15,
   "id": "10467941",
   "metadata": {},
   "outputs": [
    {
     "name": "stdout",
     "output_type": "stream",
     "text": [
      "We have 5 Apple(s).\n",
      "We have 3 Banana(s).\n",
      "We have 2 Orange(s).\n",
      "We have 9 Strawberry(s).\n"
     ]
    }
   ],
   "source": [
    "# Question number 4 answer\n",
    "# You can iterate throught it using a \"for\" loop.\n",
    "fruit_quantities = {\n",
    "    \"Apple\": 5,\n",
    "    \"Banana\": 3,\n",
    "    \"Orange\": 2,\n",
    "    \"Strawberry\": 9\n",
    "}\n",
    "for fruit, quantity in fruit_quantities.items():\n",
    "    print(f'We have {quantity} {fruit}(s).')"
   ]
  },
  {
   "cell_type": "code",
   "execution_count": 16,
   "id": "15dbd615",
   "metadata": {},
   "outputs": [
    {
     "name": "stdout",
     "output_type": "stream",
     "text": [
      "The 'Age' key exists in the dictionary.\n"
     ]
    }
   ],
   "source": [
    "# Question number 5 answer\n",
    "# Using the \"in\" keyword\n",
    "my_dict = {'Name': 'Alice', 'Age': 19, 'City': 'Tokyo'}\n",
    "if 'Age' in my_dict:\n",
    "    print(\"The 'Age' key exists in the dictionary.\")\n",
    "else:\n",
    "    print(\"The 'Age' key does not exists in the dictionary.\")"
   ]
  },
  {
   "cell_type": "code",
   "execution_count": 17,
   "id": "f38af5bf",
   "metadata": {},
   "outputs": [],
   "source": [
    "# Question number 6 answer\n",
    "# No, a dictionary in python cannot have duplicate keys. Each key in a dictionary must be unique. When you try to add\n",
    "# a key that already exists in the dictionary, the new value associated with that key will overwrite the previous value."
   ]
  },
  {
   "cell_type": "code",
   "execution_count": 18,
   "id": "4c804a35",
   "metadata": {},
   "outputs": [
    {
     "name": "stdout",
     "output_type": "stream",
     "text": [
      "{'Name': 'Alice', 'Age': 19, 'City': 'Tokyo', 'Gender': 'Female'}\n"
     ]
    }
   ],
   "source": [
    "# Question number 7 answer\n",
    "# you can merge them using the update function\n",
    "dict1 = {'Name': 'Alice', 'Age': 19}\n",
    "dict2 = {'City': 'Tokyo', 'Gender': 'Female'}\n",
    "dict1.update(dict2)\n",
    "print(dict1)"
   ]
  },
  {
   "cell_type": "code",
   "execution_count": 19,
   "id": "b50c32f3",
   "metadata": {},
   "outputs": [
    {
     "name": "stdout",
     "output_type": "stream",
     "text": [
      "{'Name': 'Alice', 'City': 'Tokyo', 'Gender': 'Female'}\n"
     ]
    }
   ],
   "source": [
    "# Question number 8 answer\n",
    "# Using the pop() method\n",
    "dict1.pop('Age')\n",
    "print(dict1)"
   ]
  },
  {
   "cell_type": "code",
   "execution_count": 23,
   "id": "0fd43f2a",
   "metadata": {},
   "outputs": [
    {
     "name": "stdout",
     "output_type": "stream",
     "text": [
      "Unknown\n"
     ]
    }
   ],
   "source": [
    "# Question number 9 answer \n",
    "# Attempting to access a key that dosent exits in a dictionary will raise a keyError\n",
    "my_dict = {'Name': 'Alice', 'Age': 19,'City': 'Tokyo'}\n",
    "# But we can prevent this error by using the get() method which allows you to provide a default value if the key dosent exist\n",
    "gender = my_dict.get('Gender','Unknown')\n",
    "print(gender)"
   ]
  },
  {
   "cell_type": "code",
   "execution_count": null,
   "id": "aaac89c6",
   "metadata": {},
   "outputs": [],
   "source": []
  }
 ],
 "metadata": {
  "kernelspec": {
   "display_name": "Python 3 (ipykernel)",
   "language": "python",
   "name": "python3"
  },
  "language_info": {
   "codemirror_mode": {
    "name": "ipython",
    "version": 3
   },
   "file_extension": ".py",
   "mimetype": "text/x-python",
   "name": "python",
   "nbconvert_exporter": "python",
   "pygments_lexer": "ipython3",
   "version": "3.11.5"
  }
 },
 "nbformat": 4,
 "nbformat_minor": 5
}
