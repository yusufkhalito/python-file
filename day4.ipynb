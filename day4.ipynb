{
 "cells": [
  {
   "cell_type": "markdown",
   "id": "f9f8b1fa",
   "metadata": {},
   "source": [
    "# dictionary"
   ]
  },
  {
   "cell_type": "code",
   "execution_count": 1,
   "id": "20147388",
   "metadata": {},
   "outputs": [
    {
     "name": "stdout",
     "output_type": "stream",
     "text": [
      "Ben\n"
     ]
    }
   ],
   "source": [
    "records = {\n",
    "    'Name':'Ben',\n",
    "    'Age': 15\n",
    "}\n",
    "print(records['Name'])"
   ]
  },
  {
   "cell_type": "code",
   "execution_count": 2,
   "id": "ace6696b",
   "metadata": {},
   "outputs": [
    {
     "name": "stdout",
     "output_type": "stream",
     "text": [
      "dict_keys(['Name', 'Age'])\n"
     ]
    }
   ],
   "source": [
    "print(records.keys())"
   ]
  },
  {
   "cell_type": "code",
   "execution_count": 3,
   "id": "4a02a15b",
   "metadata": {},
   "outputs": [
    {
     "name": "stdout",
     "output_type": "stream",
     "text": [
      "dict_values(['Ben', 15])\n"
     ]
    }
   ],
   "source": [
    "print(records.values())"
   ]
  },
  {
   "cell_type": "code",
   "execution_count": 4,
   "id": "8a4795d6",
   "metadata": {},
   "outputs": [
    {
     "name": "stdout",
     "output_type": "stream",
     "text": [
      "dict_items([('Name', 'Ben'), ('Age', 15)])\n"
     ]
    }
   ],
   "source": [
    "print(records.items())"
   ]
  },
  {
   "cell_type": "code",
   "execution_count": 5,
   "id": "15a46c73",
   "metadata": {},
   "outputs": [
    {
     "name": "stdout",
     "output_type": "stream",
     "text": [
      "{'Name': 'Ben', 'Age': 15, 'Gender': 'Male'}\n"
     ]
    }
   ],
   "source": [
    "records['Gender'] = 'Male'\n",
    "print(records)"
   ]
  },
  {
   "cell_type": "code",
   "execution_count": 6,
   "id": "76264264",
   "metadata": {},
   "outputs": [
    {
     "name": "stdout",
     "output_type": "stream",
     "text": [
      "{'Name': 'Ben', 'Age': 15, 'Gender': 'Male', 'Height': 1.96}\n"
     ]
    }
   ],
   "source": [
    "records.update({'Height':1.96})\n",
    "print(records)"
   ]
  },
  {
   "cell_type": "code",
   "execution_count": 7,
   "id": "cd051c99",
   "metadata": {},
   "outputs": [
    {
     "name": "stdout",
     "output_type": "stream",
     "text": [
      "{'Name': 'Ben', 'Age': 16, 'Gender': 'Male', 'Height': 1.96}\n"
     ]
    }
   ],
   "source": [
    "records.update({'Age':16})\n",
    "print(records)"
   ]
  },
  {
   "cell_type": "code",
   "execution_count": 8,
   "id": "874e8191",
   "metadata": {},
   "outputs": [
    {
     "name": "stdout",
     "output_type": "stream",
     "text": [
      "{'Name': 'Ben', 'Age': 16, 'Gender': 'Male'}\n"
     ]
    }
   ],
   "source": [
    "records.popitem() # this cmnd deletes from the end of the dictionary the last key and its values\n",
    "print(records)"
   ]
  },
  {
   "cell_type": "code",
   "execution_count": 9,
   "id": "c45d2ba4",
   "metadata": {},
   "outputs": [
    {
     "name": "stdout",
     "output_type": "stream",
     "text": [
      "{'Name': 'Ben', 'Gender': 'Male'}\n"
     ]
    }
   ],
   "source": [
    "records.pop('Age') # this cmnd deletes the specified key and its values\n",
    "print(records)"
   ]
  },
  {
   "cell_type": "markdown",
   "id": "b7e4abe4",
   "metadata": {},
   "source": [
    "# Modules And Conditional Statements"
   ]
  },
  {
   "cell_type": "code",
   "execution_count": 10,
   "id": "113c021c",
   "metadata": {},
   "outputs": [
    {
     "name": "stdout",
     "output_type": "stream",
     "text": [
      "['__doc__', '__loader__', '__name__', '__package__', '__spec__', 'acos', 'acosh', 'asin', 'asinh', 'atan', 'atan2', 'atanh', 'cbrt', 'ceil', 'comb', 'copysign', 'cos', 'cosh', 'degrees', 'dist', 'e', 'erf', 'erfc', 'exp', 'exp2', 'expm1', 'fabs', 'factorial', 'floor', 'fmod', 'frexp', 'fsum', 'gamma', 'gcd', 'hypot', 'inf', 'isclose', 'isfinite', 'isinf', 'isnan', 'isqrt', 'lcm', 'ldexp', 'lgamma', 'log', 'log10', 'log1p', 'log2', 'modf', 'nan', 'nextafter', 'perm', 'pi', 'pow', 'prod', 'radians', 'remainder', 'sin', 'sinh', 'sqrt', 'tan', 'tanh', 'tau', 'trunc', 'ulp']\n"
     ]
    }
   ],
   "source": [
    "import math\n",
    "print(dir(math))"
   ]
  },
  {
   "cell_type": "code",
   "execution_count": 11,
   "id": "d16a8d6a",
   "metadata": {},
   "outputs": [
    {
     "name": "stdout",
     "output_type": "stream",
     "text": [
      "17\n",
      "16\n",
      "10395180.252586327\n"
     ]
    }
   ],
   "source": [
    "num = 16.85\n",
    "print(math.ceil(num))\n",
    "print(math.floor(num))\n",
    "print(math.sinh(num))"
   ]
  },
  {
   "cell_type": "code",
   "execution_count": 12,
   "id": "848c461f",
   "metadata": {},
   "outputs": [
    {
     "name": "stdout",
     "output_type": "stream",
     "text": [
      "['Counter', 'Decimal', 'Fraction', 'LinearRegression', 'NormalDist', 'StatisticsError', '_SQRT2', '__all__', '__annotations__', '__builtins__', '__cached__', '__doc__', '__file__', '__loader__', '__name__', '__package__', '__spec__', '_coerce', '_convert', '_decimal_sqrt_of_frac', '_exact_ratio', '_fail_neg', '_float_sqrt_of_frac', '_integer_sqrt_of_frac_rto', '_isfinite', '_mean_stdev', '_normal_dist_inv_cdf', '_sqrt_bit_width', '_ss', '_sum', 'bisect_left', 'bisect_right', 'correlation', 'covariance', 'defaultdict', 'erf', 'exp', 'fabs', 'fmean', 'fsum', 'geometric_mean', 'groupby', 'harmonic_mean', 'hypot', 'linear_regression', 'log', 'math', 'mean', 'median', 'median_grouped', 'median_high', 'median_low', 'mode', 'mul', 'multimode', 'namedtuple', 'numbers', 'pstdev', 'pvariance', 'quantiles', 'random', 'reduce', 'repeat', 'sqrt', 'stdev', 'sys', 'tau', 'variance']\n"
     ]
    }
   ],
   "source": [
    "import statistics as stat\n",
    "print(dir(stat))"
   ]
  },
  {
   "cell_type": "code",
   "execution_count": 14,
   "id": "3c0d260a",
   "metadata": {},
   "outputs": [
    {
     "name": "stdout",
     "output_type": "stream",
     "text": [
      "72.4\n",
      "75.0\n",
      "336.0444444444444\n"
     ]
    }
   ],
   "source": [
    "score = [98,67,65,42,91,80,77,86,73,45]\n",
    "print(stat.mean(score))\n",
    "print(stat.median(score))\n",
    "print(stat.variance(score))"
   ]
  },
  {
   "cell_type": "code",
   "execution_count": 15,
   "id": "cc14044d",
   "metadata": {},
   "outputs": [
    {
     "name": "stdout",
     "output_type": "stream",
     "text": [
      "['BPF', 'LOG4', 'NV_MAGICCONST', 'RECIP_BPF', 'Random', 'SG_MAGICCONST', 'SystemRandom', 'TWOPI', '_ONE', '_Sequence', '_Set', '__all__', '__builtins__', '__cached__', '__doc__', '__file__', '__loader__', '__name__', '__package__', '__spec__', '_accumulate', '_acos', '_bisect', '_ceil', '_cos', '_e', '_exp', '_floor', '_index', '_inst', '_isfinite', '_log', '_os', '_pi', '_random', '_repeat', '_sha512', '_sin', '_sqrt', '_test', '_test_generator', '_urandom', '_warn', 'betavariate', 'choice', 'choices', 'expovariate', 'gammavariate', 'gauss', 'getrandbits', 'getstate', 'lognormvariate', 'normalvariate', 'paretovariate', 'randbytes', 'randint', 'random', 'randrange', 'sample', 'seed', 'setstate', 'shuffle', 'triangular', 'uniform', 'vonmisesvariate', 'weibullvariate']\n"
     ]
    }
   ],
   "source": [
    "import random as rn\n",
    "print(dir(rn))"
   ]
  },
  {
   "cell_type": "code",
   "execution_count": 16,
   "id": "6d8c86ef",
   "metadata": {},
   "outputs": [
    {
     "name": "stdout",
     "output_type": "stream",
     "text": [
      "[45, 80, 91, 65, 77, 42, 86, 73, 98, 67]\n"
     ]
    }
   ],
   "source": [
    "rn.shuffle(score)\n",
    "print(score)"
   ]
  },
  {
   "cell_type": "code",
   "execution_count": 17,
   "id": "d19385f7",
   "metadata": {},
   "outputs": [
    {
     "data": {
      "text/plain": [
       "91"
      ]
     },
     "execution_count": 17,
     "metadata": {},
     "output_type": "execute_result"
    }
   ],
   "source": [
    "rn.choice(score)"
   ]
  },
  {
   "cell_type": "code",
   "execution_count": 18,
   "id": "a2b67ab1",
   "metadata": {},
   "outputs": [
    {
     "data": {
      "text/plain": [
       "84"
      ]
     },
     "execution_count": 18,
     "metadata": {},
     "output_type": "execute_result"
    }
   ],
   "source": [
    "rn.randint(77,86)"
   ]
  },
  {
   "cell_type": "markdown",
   "id": "344ebdc2",
   "metadata": {},
   "source": [
    "# Conditional Selection"
   ]
  },
  {
   "cell_type": "markdown",
   "id": "ba92b6e6",
   "metadata": {},
   "source": [
    "# How can a restaurant use a conditional statement to determine if a customer's bill exceeds a certain amount, and offer them a discount or reward accordingly"
   ]
  },
  {
   "cell_type": "code",
   "execution_count": 20,
   "id": "5eb49068",
   "metadata": {},
   "outputs": [
    {
     "name": "stdout",
     "output_type": "stream",
     "text": [
      "Enter Customer Bill:5800.60\n",
      "Congratulation you have 5% discount\n"
     ]
    }
   ],
   "source": [
    "customer_bill = float(input('Enter Customer Bill:'))\n",
    "default_price = 5000\n",
    "if customer_bill > default_price:\n",
    "    print(f'Congratulation you have 5% discount')"
   ]
  },
  {
   "cell_type": "code",
   "execution_count": 22,
   "id": "25265469",
   "metadata": {},
   "outputs": [
    {
     "name": "stdout",
     "output_type": "stream",
     "text": [
      "Enter Customer Bill:10000\n",
      "Congratulation you have 5% discount\n"
     ]
    }
   ],
   "source": [
    "customer_bill = float(input('Enter Customer Bill:'))\n",
    "default_price = 5000\n",
    "if customer_bill > default_price:\n",
    "    print(f'Congratulation you have 5% discount')\n",
    "else:\n",
    "    print(f'Sorry Buy More To Have A Discount Or Try Again Later')"
   ]
  },
  {
   "cell_type": "code",
   "execution_count": 23,
   "id": "af4ed861",
   "metadata": {},
   "outputs": [
    {
     "name": "stdout",
     "output_type": "stream",
     "text": [
      "WELCOME TO BPP PLAZA\n",
      "____________FLOORS___________\n",
      "1. [SPA AND EARLYCODE]\n",
      "2. [SALOON AND GAMING SHOP]\n",
      "3. [LOUNGE AND RESTAURANT]\n",
      "4. GROUND FLOOR\n",
      "\n",
      "Enter the button number to your desired floor:2\n",
      "Enter 1 for SALOON and 2 For GAMING SHOP:2\n",
      "GAMING SHOP is on the right\n"
     ]
    }
   ],
   "source": [
    "print('WELCOME TO BPP PLAZA')\n",
    "print('''____________FLOORS___________\n",
    "1. [SPA AND EARLYCODE]\n",
    "2. [SALOON AND GAMING SHOP]\n",
    "3. [LOUNGE AND RESTAURANT]\n",
    "4. GROUND FLOOR\n",
    "''')\n",
    "users_option = input('Enter the button number to your desired floor:')\n",
    "if users_option == '1':\n",
    "    option = input('Enter 1 for SPA and 2 For EARLYCODE:')\n",
    "    if option == '1':\n",
    "        print('SPA is on the left')\n",
    "    elif option == '2':\n",
    "        print('EARLYCODE is on the right')\n",
    "elif users_option == '2':\n",
    "    option = input('Enter 1 for SALOON and 2 For GAMING SHOP:')\n",
    "    if option == '1':\n",
    "        print('SALOON is on the left')\n",
    "    elif option == '2':\n",
    "        print('GAMING SHOP is on the right')\n",
    "elif users_option == '3':\n",
    "    option = input('Enter 1 for LOUNGE and 2 For RESTAURANT:')\n",
    "    if option == '1':\n",
    "        print('LOUNGE is on the left')\n",
    "    elif option == '2':\n",
    "        print('RESTAURANT is on the right')\n",
    "elif users_option == '4':\n",
    "        print('POM POM GROUND FLOOR')\n",
    "    \n"
   ]
  },
  {
   "cell_type": "code",
   "execution_count": null,
   "id": "6045a4c9",
   "metadata": {},
   "outputs": [],
   "source": []
  }
 ],
 "metadata": {
  "kernelspec": {
   "display_name": "Python 3 (ipykernel)",
   "language": "python",
   "name": "python3"
  },
  "language_info": {
   "codemirror_mode": {
    "name": "ipython",
    "version": 3
   },
   "file_extension": ".py",
   "mimetype": "text/x-python",
   "name": "python",
   "nbconvert_exporter": "python",
   "pygments_lexer": "ipython3",
   "version": "3.11.5"
  }
 },
 "nbformat": 4,
 "nbformat_minor": 5
}
