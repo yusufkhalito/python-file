{
 "cells": [
  {
   "cell_type": "markdown",
   "id": "dca667c5",
   "metadata": {},
   "source": [
    "# Ask a user for their type of appointment, the date and write a program to calculate how many weeks and days left until the users appointment"
   ]
  },
  {
   "cell_type": "code",
   "execution_count": 4,
   "id": "91cc1db1",
   "metadata": {},
   "outputs": [
    {
     "name": "stdout",
     "output_type": "stream",
     "text": [
      "Welcome! Let's calculate the time until your appointment.\n",
      "Enter the type of your appointment: Medical\n",
      "Enter the date of your appointment (YYYY-MM-DD): 2023-12-18\n",
      "Time until your Medical appointment:\n",
      "3 weeks and 4 days left.\n"
     ]
    }
   ],
   "source": [
    "from datetime import datetime\n",
    "\n",
    "def calculate_time_until_appointment(appointment_date):\n",
    "    current_date = datetime.now().date()\n",
    "    time_until = appointment_date - current_date\n",
    "    return time_until.days\n",
    "\n",
    "def main():\n",
    "    print(\"Welcome! Let's calculate the time until your appointment.\")\n",
    "    appointment_type = input(\"Enter the type of your appointment: \")\n",
    "    appointment_date_str = input(\"Enter the date of your appointment (YYYY-MM-DD): \")\n",
    "\n",
    "    try:\n",
    "        appointment_date = datetime.strptime(appointment_date_str, '%Y-%m-%d').date()\n",
    "        days_left = calculate_time_until_appointment(appointment_date)\n",
    "        if days_left > 0:\n",
    "            weeks_left = days_left // 7\n",
    "            remaining_days = days_left % 7\n",
    "            print(f\"Time until your {appointment_type} appointment:\")\n",
    "            print(f\"{weeks_left} weeks and {remaining_days} days left.\")\n",
    "        elif days_left == 0:\n",
    "            print(f\"Today is your {appointment_type} appointment day!\")\n",
    "        else:\n",
    "            print(f\"Your {appointment_type} appointment has already passed.\")\n",
    "    except ValueError:\n",
    "        print(\"Invalid date format. Please use YYYY-MM-DD.\")\n",
    "\n",
    "if __name__ == \"__main__\":\n",
    "    main()\n"
   ]
  },
  {
   "cell_type": "markdown",
   "id": "591a2272",
   "metadata": {},
   "source": [
    "# PART TWO"
   ]
  },
  {
   "cell_type": "code",
   "execution_count": 3,
   "id": "58444343",
   "metadata": {},
   "outputs": [
    {
     "name": "stdout",
     "output_type": "stream",
     "text": [
      "Welcome to the addition quiz!\n",
      "You'll be asked to solve five addition problems.\n",
      "Let's begin!\n",
      "What is 60 + 86?\n",
      "Your answer: 78\n",
      "Incorrect!\n",
      "What is 14 + 59?\n",
      "Your answer: 73\n",
      "Correct!\n",
      "What is 26 + 44?\n",
      "Your answer: 70\n",
      "Correct!\n",
      "What is 33 + 94?\n",
      "Your answer: 127\n",
      "Correct!\n",
      "What is 44 + 75?\n",
      "Your answer: 139\n",
      "Incorrect!\n",
      "Quiz complete!\n",
      "You answered 3 out of 5 questions correctly.\n",
      "Total time taken: 79.41 seconds\n",
      "Average time per question: 15.88 seconds\n"
     ]
    }
   ],
   "source": [
    "import random\n",
    "import time\n",
    "\n",
    "def generate_question():\n",
    "    num1 = random.randint(1, 100)\n",
    "    num2 = random.randint(1, 100)\n",
    "    return num1, num2\n",
    "\n",
    "def main():\n",
    "    print(\"Welcome to the addition quiz!\")\n",
    "    print(\"You'll be asked to solve five addition problems.\")\n",
    "    print(\"Let's begin!\")\n",
    "\n",
    "    total_time = 0\n",
    "    correct_answers = 0\n",
    "    for _ in range(5):\n",
    "        num1, num2 = generate_question()\n",
    "        print(f\"What is {num1} + {num2}?\")\n",
    "        \n",
    "        start_time = time.time()\n",
    "        user_answer = input(\"Your answer: \")\n",
    "        end_time = time.time()\n",
    "\n",
    "        try:\n",
    "            user_answer = int(user_answer)\n",
    "            elapsed_time = end_time - start_time\n",
    "            total_time += elapsed_time\n",
    "\n",
    "            if user_answer == num1 + num2:\n",
    "                print(\"Correct!\")\n",
    "                correct_answers += 1\n",
    "            else:\n",
    "                print(\"Incorrect!\")\n",
    "\n",
    "        except ValueError:\n",
    "            print(\"Invalid input. Please enter a number.\")\n",
    "    \n",
    "    print(\"Quiz complete!\")\n",
    "    print(f\"You answered {correct_answers} out of 5 questions correctly.\")\n",
    "    print(f\"Total time taken: {total_time:.2f} seconds\")\n",
    "    print(f\"Average time per question: {total_time / 5:.2f} seconds\")\n",
    "\n",
    "if __name__ == \"__main__\":\n",
    "    main()\n"
   ]
  },
  {
   "cell_type": "code",
   "execution_count": null,
   "id": "b7bff7c0",
   "metadata": {},
   "outputs": [],
   "source": []
  }
 ],
 "metadata": {
  "kernelspec": {
   "display_name": "Python 3 (ipykernel)",
   "language": "python",
   "name": "python3"
  },
  "language_info": {
   "codemirror_mode": {
    "name": "ipython",
    "version": 3
   },
   "file_extension": ".py",
   "mimetype": "text/x-python",
   "name": "python",
   "nbconvert_exporter": "python",
   "pygments_lexer": "ipython3",
   "version": "3.11.5"
  }
 },
 "nbformat": 4,
 "nbformat_minor": 5
}
