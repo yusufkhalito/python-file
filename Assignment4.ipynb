{
 "cells": [
  {
   "cell_type": "markdown",
   "id": "f57053b2",
   "metadata": {},
   "source": [
    "# DICE ROLL GAME FUNCTION"
   ]
  },
  {
   "cell_type": "code",
   "execution_count": 1,
   "id": "af9557f1",
   "metadata": {},
   "outputs": [
    {
     "name": "stdout",
     "output_type": "stream",
     "text": [
      "{'Player One Score': 4, 'Player Two Score': 5, 'Winner': 'Player Two'}\n"
     ]
    }
   ],
   "source": [
    "import random\n",
    "\n",
    "def roll_dice_game():\n",
    "    player_one_score = 0\n",
    "    player_two_score = 0\n",
    "    \n",
    "    for round in range(10):\n",
    "        player_one_roll = random.randint(1, 6)\n",
    "        player_two_roll = random.randint(1, 6)\n",
    "        \n",
    "        if player_one_roll > player_two_roll:\n",
    "            player_one_score += 1\n",
    "        elif player_two_roll > player_one_roll:\n",
    "            player_two_score += 1\n",
    "            \n",
    "    if player_one_score > player_two_score:\n",
    "        winner = \"Player One\"\n",
    "    elif player_two_score > player_one_score:\n",
    "        winner = \"Player Two\"\n",
    "    else:\n",
    "        winner = \"Draw\"\n",
    "        \n",
    "    return {\n",
    "        'Player One Score':\n",
    "player_one_score,\n",
    "        'Player Two Score':\n",
    "player_two_score,\n",
    "        'Winner': winner\n",
    "    }\n",
    "\n",
    "result = roll_dice_game()\n",
    "print(result)"
   ]
  },
  {
   "cell_type": "code",
   "execution_count": null,
   "id": "c4d1e5aa",
   "metadata": {},
   "outputs": [],
   "source": []
  }
 ],
 "metadata": {
  "kernelspec": {
   "display_name": "Python 3 (ipykernel)",
   "language": "python",
   "name": "python3"
  },
  "language_info": {
   "codemirror_mode": {
    "name": "ipython",
    "version": 3
   },
   "file_extension": ".py",
   "mimetype": "text/x-python",
   "name": "python",
   "nbconvert_exporter": "python",
   "pygments_lexer": "ipython3",
   "version": "3.11.5"
  }
 },
 "nbformat": 4,
 "nbformat_minor": 5
}
