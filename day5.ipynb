{
 "cells": [
  {
   "cell_type": "code",
   "execution_count": 1,
   "id": "f4c638d5",
   "metadata": {},
   "outputs": [
    {
     "name": "stdout",
     "output_type": "stream",
     "text": [
      "pppp\n",
      "yyyy\n",
      "tttt\n",
      "hhhh\n",
      "oooo\n",
      "nnnn\n"
     ]
    }
   ],
   "source": [
    "word = 'python'\n",
    "for char in word:\n",
    "    print(char *4,)"
   ]
  },
  {
   "cell_type": "code",
   "execution_count": 2,
   "id": "613f849b",
   "metadata": {},
   "outputs": [
    {
     "name": "stdout",
     "output_type": "stream",
     "text": [
      "pppp yyyy tttt hhhh oooo nnnn "
     ]
    }
   ],
   "source": [
    "word = 'python'\n",
    "for char in word:\n",
    "    print(char *4, end =' ')"
   ]
  },
  {
   "cell_type": "code",
   "execution_count": 4,
   "id": "26cb8489",
   "metadata": {},
   "outputs": [
    {
     "name": "stdout",
     "output_type": "stream",
     "text": [
      "python\n",
      "python\n",
      "python\n",
      "python\n",
      "python\n"
     ]
    }
   ],
   "source": [
    "for i in range(5):\n",
    "    print(word)"
   ]
  },
  {
   "cell_type": "markdown",
   "id": "45e7dbae",
   "metadata": {},
   "source": [
    "## Write  program o check if an item is in stock and calculate the total cost of items in the shopping cart"
   ]
  },
  {
   "cell_type": "code",
   "execution_count": 18,
   "id": "edb2f619",
   "metadata": {},
   "outputs": [
    {
     "name": "stdout",
     "output_type": "stream",
     "text": [
      "The total cost of items in the cart is N12100.0\n"
     ]
    }
   ],
   "source": [
    "products = {\n",
    "    'item1':{'Name':'Big Burger', 'Price':3000.00,'Stock':15},\n",
    "    'item2':{'Name':'Small Burger', 'Price':1500.00,'Stock':25},\n",
    "    'item3':{'Name':'Chicken Pie', 'Price':800.00,'Stock':50},\n",
    "}\n",
    "cart = []\n",
    "totalcost = 0\n",
    "cart.append(('item1',2))\n",
    "cart.append(('item3',2))\n",
    "cart.append(('item2',3))\n",
    "for item in cart:\n",
    "        id, quantity = item\n",
    "        if id in products and products[id]['Stock'] >= quantity:\n",
    "            totalcost += products[id]['Price'] * quantity\n",
    "        \n",
    "        else:\n",
    "            print('Out of stock')\n",
    "if totalcost > 0:\n",
    "    print(f'The total cost of items in the cart is N{totalcost}')\n",
    "else:\n",
    "    print('No item in the cart')"
   ]
  },
  {
   "cell_type": "markdown",
   "id": "f042d2d0",
   "metadata": {},
   "source": [
    "# WHILE LOOP "
   ]
  },
  {
   "cell_type": "code",
   "execution_count": 19,
   "id": "2ed3ffcd",
   "metadata": {},
   "outputs": [
    {
     "name": "stdout",
     "output_type": "stream",
     "text": [
      "Enter your number:19\n",
      "The sqrt of 19 is 4.358898943540674\n",
      "Enter your number:16\n",
      "The sqrt of 16 is 4.0\n",
      "Enter your number:14\n",
      "The sqrt of 14 is 3.7416573867739413\n",
      "Enter your number:98\n",
      "The sqrt of 98 is 9.899494936611665\n",
      "Enter your number:0\n"
     ]
    }
   ],
   "source": [
    "num = int(input('Enter your number:'))\n",
    "import math\n",
    "counter = 0\n",
    "while num != 0:\n",
    "    print(f'The sqrt of {num} is {math.sqrt(num)}')\n",
    "    counter+=1\n",
    "    num = int(input('Enter your number:'))"
   ]
  },
  {
   "cell_type": "markdown",
   "id": "a10f022c",
   "metadata": {},
   "source": [
    "# Write simple authentication system that checks a user's credentials to allow maximum attempt of 3 times login"
   ]
  },
  {
   "cell_type": "code",
   "execution_count": 21,
   "id": "72f051e2",
   "metadata": {},
   "outputs": [
    {
     "name": "stdout",
     "output_type": "stream",
     "text": [
      "Enter your username:yhwach\n",
      "Enter your password:1245\n",
      "Login Failed\n",
      "Enter your username:Datpro\n",
      "Enter your password:Boss125\n",
      "Login Successful, Datpro!\n"
     ]
    }
   ],
   "source": [
    "correct_username = 'Datpro'\n",
    "correct_password = 'Boss125'\n",
    "max_attempt = 3\n",
    "login_attempt = 0\n",
    "while login_attempt < max_attempt:\n",
    "        username = input('Enter your username:')\n",
    "        password = input('Enter your password:')\n",
    "        if username == correct_username and password == correct_password:\n",
    "                print('Login Successful, ' + username + '!')\n",
    "                break\n",
    "        else:\n",
    "                print('Login Failed')\n",
    "                login_attempt +=1\n",
    "if login_attempt == max_attempt:\n",
    "    print('Maximum Login attempts reached. Account Locked.')"
   ]
  },
  {
   "cell_type": "code",
   "execution_count": null,
   "id": "4c564fdf",
   "metadata": {},
   "outputs": [],
   "source": []
  }
 ],
 "metadata": {
  "kernelspec": {
   "display_name": "Python 3 (ipykernel)",
   "language": "python",
   "name": "python3"
  },
  "language_info": {
   "codemirror_mode": {
    "name": "ipython",
    "version": 3
   },
   "file_extension": ".py",
   "mimetype": "text/x-python",
   "name": "python",
   "nbconvert_exporter": "python",
   "pygments_lexer": "ipython3",
   "version": "3.11.5"
  }
 },
 "nbformat": 4,
 "nbformat_minor": 5
}
