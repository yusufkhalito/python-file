{
 "cells": [
  {
   "cell_type": "code",
   "execution_count": 12,
   "id": "6de4156e",
   "metadata": {},
   "outputs": [
    {
     "name": "stdout",
     "output_type": "stream",
     "text": [
      "The WhiteLamborghiniUrus has started.\n",
      "Changed gear to 2\n",
      "Accelerating. Current speed is 20 km/h.\n",
      "Accelerating. Current speed is 50 km/h.\n",
      "Stopping the car.\n"
     ]
    }
   ],
   "source": [
    "class car:\n",
    "    def __init__(self,brand,model,color,year):\n",
    "        self.brand = brand\n",
    "        self.model = model\n",
    "        self.color = color\n",
    "        self.year = year\n",
    "        self.speed = 0\n",
    "        self.gear = 'P'\n",
    "        \n",
    "    def start(self):\n",
    "        if self.speed == 0:\n",
    "            print(f'The {self.color}{self.brand}{self.model} has started.')\n",
    "        else:\n",
    "            print('The car is alraedy running.')\n",
    "            \n",
    "    def change_gear(self,new_gear):\n",
    "        self.gear=new_gear\n",
    "        print(f'Changed gear to {self.gear}')\n",
    "        \n",
    "    def accelerate(self,increment):\n",
    "        if self.gear != 'P':\n",
    "            self.speed += increment\n",
    "            print(f'Accelerating. Current speed is {self.speed} km/h.')\n",
    "        else:\n",
    "                print('Please change gear to move.')\n",
    "                \n",
    "    def stop(self):\n",
    "        if self.speed > 0:\n",
    "            print('Stopping the car.')\n",
    "            self.speed = 0\n",
    "            self.gear = 'P'\n",
    "        else:\n",
    "            print('The car is alraedy stationary.')\n",
    "            \n",
    "# Creating an instance of the car class\n",
    "my_car = car('Lamborghini','Urus','White',2023)\n",
    "\n",
    "#Testing the car simulation\n",
    "my_car.start()\n",
    "my_car.change_gear(2)\n",
    "my_car.accelerate(20)\n",
    "my_car.accelerate(30)\n",
    "my_car.stop()"
   ]
  },
  {
   "cell_type": "code",
   "execution_count": null,
   "id": "0eb56473",
   "metadata": {},
   "outputs": [],
   "source": []
  }
 ],
 "metadata": {
  "kernelspec": {
   "display_name": "Python 3 (ipykernel)",
   "language": "python",
   "name": "python3"
  },
  "language_info": {
   "codemirror_mode": {
    "name": "ipython",
    "version": 3
   },
   "file_extension": ".py",
   "mimetype": "text/x-python",
   "name": "python",
   "nbconvert_exporter": "python",
   "pygments_lexer": "ipython3",
   "version": "3.11.5"
  }
 },
 "nbformat": 4,
 "nbformat_minor": 5
}
