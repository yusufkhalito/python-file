{
 "cells": [
  {
   "cell_type": "code",
   "execution_count": 1,
   "id": "b5103f49",
   "metadata": {},
   "outputs": [
    {
     "name": "stdout",
     "output_type": "stream",
     "text": [
      "['MAXYEAR', 'MINYEAR', 'UTC', '__all__', '__builtins__', '__cached__', '__doc__', '__file__', '__loader__', '__name__', '__package__', '__spec__', 'date', 'datetime', 'datetime_CAPI', 'sys', 'time', 'timedelta', 'timezone', 'tzinfo']\n"
     ]
    }
   ],
   "source": [
    "import datetime\n",
    "print(dir(datetime))"
   ]
  },
  {
   "cell_type": "code",
   "execution_count": 3,
   "id": "a9447ec0",
   "metadata": {},
   "outputs": [],
   "source": [
    "date1 = datetime.date(2026,11,23)"
   ]
  },
  {
   "cell_type": "code",
   "execution_count": 4,
   "id": "636ae074",
   "metadata": {},
   "outputs": [
    {
     "data": {
      "text/plain": [
       "datetime.date"
      ]
     },
     "execution_count": 4,
     "metadata": {},
     "output_type": "execute_result"
    }
   ],
   "source": [
    "type(date1)"
   ]
  },
  {
   "cell_type": "code",
   "execution_count": 5,
   "id": "09b4b81a",
   "metadata": {},
   "outputs": [
    {
     "name": "stdout",
     "output_type": "stream",
     "text": [
      "2026\n",
      "11\n",
      "23\n",
      "0\n",
      "1\n"
     ]
    }
   ],
   "source": [
    "print(date1.year)\n",
    "print(date1.month)\n",
    "print(date1.day)\n",
    "print(date1.weekday())\n",
    "print(date1.isoweekday())"
   ]
  },
  {
   "cell_type": "code",
   "execution_count": 6,
   "id": "cf68c72e",
   "metadata": {},
   "outputs": [],
   "source": [
    "# EXERCISE\n",
    "# RETURN A DATE IN THIS FORMAT (2/12/2023)"
   ]
  },
  {
   "cell_type": "code",
   "execution_count": 10,
   "id": "aae379a7",
   "metadata": {},
   "outputs": [
    {
     "name": "stdout",
     "output_type": "stream",
     "text": [
      "2023-11-22\n"
     ]
    }
   ],
   "source": [
    "currentdate = datetime.date.today()\n",
    "print(currentdate)"
   ]
  },
  {
   "cell_type": "code",
   "execution_count": 12,
   "id": "52d79f75",
   "metadata": {},
   "outputs": [
    {
     "data": {
      "text/plain": [
       "'11/22/2023'"
      ]
     },
     "execution_count": 12,
     "metadata": {},
     "output_type": "execute_result"
    }
   ],
   "source": [
    "# strftime: for modification of date and time\n",
    "currentdate.strftime('%m/%d/%Y')"
   ]
  },
  {
   "cell_type": "code",
   "execution_count": 13,
   "id": "dbe5082f",
   "metadata": {},
   "outputs": [
    {
     "data": {
      "text/plain": [
       "'22nd of November, 2023'"
      ]
     },
     "execution_count": 13,
     "metadata": {},
     "output_type": "execute_result"
    }
   ],
   "source": [
    "currentdate.strftime('%dnd of %B, %Y')"
   ]
  },
  {
   "cell_type": "code",
   "execution_count": 14,
   "id": "caee762e",
   "metadata": {},
   "outputs": [],
   "source": [
    "time1 = datetime.time(10,45,50,757574)"
   ]
  },
  {
   "cell_type": "code",
   "execution_count": 15,
   "id": "998b75b2",
   "metadata": {},
   "outputs": [
    {
     "name": "stdout",
     "output_type": "stream",
     "text": [
      "10\n",
      "45\n",
      "50\n",
      "757574\n"
     ]
    }
   ],
   "source": [
    "print(time1.hour)\n",
    "print(time1.minute)\n",
    "print(time1.second)\n",
    "print(time1.microsecond)"
   ]
  },
  {
   "cell_type": "code",
   "execution_count": 16,
   "id": "90a12f55",
   "metadata": {},
   "outputs": [
    {
     "name": "stdout",
     "output_type": "stream",
     "text": [
      "11:12:23.866370\n"
     ]
    }
   ],
   "source": [
    "current_time = datetime.datetime.now().time()\n",
    "print(current_time)"
   ]
  },
  {
   "cell_type": "code",
   "execution_count": 17,
   "id": "1151536a",
   "metadata": {},
   "outputs": [
    {
     "data": {
      "text/plain": [
       "'11::12::23::AM'"
      ]
     },
     "execution_count": 17,
     "metadata": {},
     "output_type": "execute_result"
    }
   ],
   "source": [
    "current_time.strftime('%I::%M::%S::%p')"
   ]
  },
  {
   "cell_type": "code",
   "execution_count": 19,
   "id": "6c9117d5",
   "metadata": {},
   "outputs": [
    {
     "data": {
      "text/plain": [
       "datetime.datetime(2023, 11, 22, 11, 28, 51, 526606)"
      ]
     },
     "execution_count": 19,
     "metadata": {},
     "output_type": "execute_result"
    }
   ],
   "source": [
    "current_date_time = datetime.datetime.now()\n",
    "current_date_time"
   ]
  },
  {
   "cell_type": "code",
   "execution_count": 20,
   "id": "d5101afa",
   "metadata": {},
   "outputs": [
    {
     "name": "stdout",
     "output_type": "stream",
     "text": [
      "Provide your date[d/m/Y]:19/9/2023\n"
     ]
    },
    {
     "data": {
      "text/plain": [
       "2023"
      ]
     },
     "execution_count": 20,
     "metadata": {},
     "output_type": "execute_result"
    }
   ],
   "source": [
    "# strptime: convert string date to datetime format\n",
    "date2 = input('Provide your date[d/m/Y]:')\n",
    "condate = datetime.datetime.strptime(date2,'%d/%m/%Y').date()\n",
    "condate.year"
   ]
  },
  {
   "cell_type": "code",
   "execution_count": 21,
   "id": "dd74b514",
   "metadata": {},
   "outputs": [
    {
     "data": {
      "text/plain": [
       "datetime.timedelta(days=-1097)"
      ]
     },
     "execution_count": 21,
     "metadata": {},
     "output_type": "execute_result"
    }
   ],
   "source": [
    "# Time Delta: the difference between two dates\n",
    "currentdate - date1"
   ]
  },
  {
   "cell_type": "code",
   "execution_count": 24,
   "id": "dd7ac962",
   "metadata": {},
   "outputs": [
    {
     "data": {
      "text/plain": [
       "datetime.date(2021, 1, 6)"
      ]
     },
     "execution_count": 24,
     "metadata": {},
     "output_type": "execute_result"
    }
   ],
   "source": [
    "next_date = currentdate - datetime.timedelta(weeks =150)\n",
    "next_date"
   ]
  },
  {
   "cell_type": "markdown",
   "id": "3be4d9ad",
   "metadata": {},
   "source": [
    "# EXERCISE\n",
    "# ASK A USER FOR THEIR TYPE OF APPOINTMENT, THE DATE AND WRITE A PROGRAM TO CALCULATE HOW MANY WEEKS AND DAYS LEFT UNTIL THE USERS APPOINTMENT"
   ]
  },
  {
   "cell_type": "code",
   "execution_count": 25,
   "id": "bff17f29",
   "metadata": {},
   "outputs": [],
   "source": [
    "# Assignment seven part two\n",
    "# Write a program to calculate how many seconds a user used in answering five different additions of two numbers generated\n",
    "# randomly"
   ]
  },
  {
   "cell_type": "code",
   "execution_count": null,
   "id": "05911b10",
   "metadata": {},
   "outputs": [],
   "source": [
    "# Ask a user for their type of appointment, the date and write a program to calculate how many weeks and days left until the users appointment"
   ]
  }
 ],
 "metadata": {
  "kernelspec": {
   "display_name": "Python 3 (ipykernel)",
   "language": "python",
   "name": "python3"
  },
  "language_info": {
   "codemirror_mode": {
    "name": "ipython",
    "version": 3
   },
   "file_extension": ".py",
   "mimetype": "text/x-python",
   "name": "python",
   "nbconvert_exporter": "python",
   "pygments_lexer": "ipython3",
   "version": "3.11.5"
  }
 },
 "nbformat": 4,
 "nbformat_minor": 5
}
