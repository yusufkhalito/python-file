{
 "cells": [
  {
   "cell_type": "code",
   "execution_count": 3,
   "id": "ec78739a",
   "metadata": {},
   "outputs": [],
   "source": [
    "# try\n",
    "# except\n",
    "# else\n",
    "# finally"
   ]
  },
  {
   "cell_type": "code",
   "execution_count": 6,
   "id": "a557a08c",
   "metadata": {},
   "outputs": [
    {
     "name": "stdout",
     "output_type": "stream",
     "text": [
      "Enter Number One:1\n",
      "Enter Number Two:k\n",
      "You have encountered one or more errors.\n"
     ]
    }
   ],
   "source": [
    "try:\n",
    "    num1 = int(input('Enter Number One:'))\n",
    "    num2 = int(input('Enter Number Two:'))\n",
    "except:\n",
    "    print('You have encountered one or more errors.')"
   ]
  },
  {
   "cell_type": "code",
   "execution_count": 10,
   "id": "970b8118",
   "metadata": {},
   "outputs": [
    {
     "name": "stdout",
     "output_type": "stream",
     "text": [
      "Enter Number One:45\n",
      "Enter Number Two:4\n",
      "Choose your operation[+,-,/,*]:+\n",
      "45 + 4 = 49\n"
     ]
    }
   ],
   "source": [
    "try:\n",
    "    num1 = int(input('Enter Number One:'))\n",
    "    num2 = int(input('Enter Number Two:'))\n",
    "    operation = input('Choose your operation[+,-,/,*]:')\n",
    "    if operation == '+':\n",
    "        print(f'{num1} + {num2} = {num1 + num2}')\n",
    "    elif operation == '-':\n",
    "        print(f'{num1} - {num2} = {num1 - num2}')\n",
    "    elif operation == '/':\n",
    "        print(f'{num1} / {num2} = {num1 / num2}')\n",
    "    elif operation == '*':\n",
    "        print(f'{num1} * {num2} = {num1 * num2}')\n",
    "except ValueError:\n",
    "        print('Wrong value, Only whole numbers is expected')\n",
    "except ZeroDivisionError:\n",
    "    print('You cannot divide a number by zero')\n",
    "except:\n",
    "    print('You have encountered one or more errors.')"
   ]
  },
  {
   "cell_type": "code",
   "execution_count": 25,
   "id": "a93f2d47",
   "metadata": {},
   "outputs": [
    {
     "name": "stdout",
     "output_type": "stream",
     "text": [
      "Enter item weight:95\n",
      "Enter item condition:flammable\n",
      "Enter item destination:Region2\n"
     ]
    },
    {
     "data": {
      "text/plain": [
       "'The total cost is 1425.0'"
      ]
     },
     "execution_count": 25,
     "metadata": {},
     "output_type": "execute_result"
    }
   ],
   "source": [
    "def calculate_shipping_cost(weight, item_condition,destination):\n",
    "    shipping_rates = {\n",
    "        'Region1': 5,\n",
    "        'Region2': 7,\n",
    "        'Region3': 9,\n",
    "        'Region4': 11,\n",
    "}\n",
    "    condition_charge = 0\n",
    "    if item_condition == 'fragile':\n",
    "        condition_charge = 5\n",
    "    elif item_condition == 'flammable':\n",
    "        condition_charge = 8\n",
    "    shipping_rate = shipping_rates.get(destination,0)\n",
    "    totalcost = (shipping_rate + condition_charge) * weight\n",
    "    return f'The total cost is {totalcost}'\n",
    "weight = float(input('Enter item weight:'))\n",
    "item_condition = input('Enter item condition:')\n",
    "destination = input('Enter item destination:')\n",
    "calculate_shipping_cost(weight, item_condition,destination)"
   ]
  },
  {
   "cell_type": "code",
   "execution_count": 27,
   "id": "354b7ffa",
   "metadata": {},
   "outputs": [
    {
     "name": "stdout",
     "output_type": "stream",
     "text": [
      "Enter item weight:78\n",
      "Enter item condition:fragile\n",
      "Enter item destination:Region1\n",
      "End of program\n"
     ]
    }
   ],
   "source": [
    "try:\n",
    "    def calculate_shipping_cost(weight, item_condition,destination):\n",
    "        shipping_rates = {\n",
    "            'Region1': 5,\n",
    "            'Region2': 7,\n",
    "            'Region3': 9,\n",
    "            'Region4': 11,\n",
    "        }\n",
    "        condition_charge = 0\n",
    "        if item_condition == 'fragile':\n",
    "            condition_charge = 5\n",
    "        elif item_condition == 'flammable':\n",
    "            condition_charge = 8\n",
    "        shipping_rate = shipping_rates.get(destination,0)\n",
    "        totalcost = (shipping_rate + condition_charge) * weight\n",
    "        return f'The total cost is {totalcost}'\n",
    "except KeyError:\n",
    "    print('Key Does Not Exists')\n",
    "except:\n",
    "    print('You Have Encountered One Or More Errors.')\n",
    "else:\n",
    "    try:\n",
    "        weight = float(input('Enter item weight:'))\n",
    "        item_condition = input('Enter item condition:')\n",
    "        destination = input('Enter item destination:')\n",
    "        \n",
    "    except ValueError:\n",
    "        print('Only float or integer value for weight')\n",
    "finally:\n",
    "    calculate_shipping_cost(weight, item_condition, destination)\n",
    "    print('End of program')"
   ]
  },
  {
   "cell_type": "code",
   "execution_count": null,
   "id": "c086ddd4",
   "metadata": {},
   "outputs": [],
   "source": [
    "# ASSIGNMENT SIX: ERROR HANDLING\n",
    "# DEBUG THE ABOVE CODE TO FIX THE DSIPLAY ISSUE"
   ]
  }
 ],
 "metadata": {
  "kernelspec": {
   "display_name": "Python 3 (ipykernel)",
   "language": "python",
   "name": "python3"
  },
  "language_info": {
   "codemirror_mode": {
    "name": "ipython",
    "version": 3
   },
   "file_extension": ".py",
   "mimetype": "text/x-python",
   "name": "python",
   "nbconvert_exporter": "python",
   "pygments_lexer": "ipython3",
   "version": "3.11.5"
  }
 },
 "nbformat": 4,
 "nbformat_minor": 5
}
